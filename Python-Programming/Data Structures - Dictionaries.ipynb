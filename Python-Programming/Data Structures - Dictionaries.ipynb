{
 "cells": [
  {
   "cell_type": "code",
   "execution_count": 7,
   "metadata": {},
   "outputs": [],
   "source": [
    "# Defining dictionaries\n",
    "# Using {} brackets\n",
    "locations  = {'Jack':'Candy Coated1', 'Jill':'Candy Coated2', 'Lil Red':'Castle', 'Grandma':'Cabin', 'Big Bad':'Forest', 'Piggy':'Brick House',}\n",
    "\n",
    "# Dictionary comprehension\n",
    "x = {x: x**2 for x in range(10)}\n",
    "\n",
    "# dict() function\n",
    "d = dict([('Micheal Jordan', 5247), ('Kobe Bryant', 4252), ('Lebron James', 48621)])"
   ]
  },
  {
   "cell_type": "code",
   "execution_count": 15,
   "metadata": {},
   "outputs": [
    {
     "name": "stdout",
     "output_type": "stream",
     "text": [
      "Original Set:{'Jack': 'Candy Coated1', 'Jill': 'Candy Coated2', 'Lil Red': 'Castle', 'Grandma': 'Cabin', 'Big Bad': 'Forest', 'Piggy': 'Brick House'}\n",
      "Dictionary name:locations  Item count:6\n"
     ]
    }
   ],
   "source": [
    "# Using len(d) method: Returns the number of items in a dictionary\n",
    "print('Original Dictionary:' +  str(locations))\n",
    "\n",
    "# Displau the number of items in a dictionary\n",
    "print('Dictionary name:locations ' + ' Item count:'+ str(len(locations)))  "
   ]
  },
  {
   "cell_type": "code",
   "execution_count": 18,
   "metadata": {},
   "outputs": [
    {
     "name": "stdout",
     "output_type": "stream",
     "text": [
      "Original Dictionary:{'Jack': 'Candy Coated1', 'Jill': 'Candy Coated2', 'Lil Red': 'Castle', 'Grandma': 'Cabin', 'Big Bad': 'Forest', 'Piggy': 'Brick House'}\n",
      "Dictionary name: locations  Key:Jack  Value:Candy Coated1\n"
     ]
    }
   ],
   "source": [
    "# Using the d[key] operator: Returns the item with key d from dictionary d\n",
    "print('Original Dictionary:' + str(locations))\n",
    "\n",
    "# Display the corresponding item to key in the dictionary\n",
    "print('Dictionary name: locations ' + ' Key:Jack ' + ' Value:'+str(locations['Jack']))"
   ]
  },
  {
   "cell_type": "code",
   "execution_count": 20,
   "metadata": {},
   "outputs": [
    {
     "name": "stdout",
     "output_type": "stream",
     "text": [
      "Original Dictionary:{'Jack': 'Candy Coated1', 'Jill': 'Candy Coated2', 'Lil Red': 'Castle', 'Grandma': 'Cabin', 'Big Bad': 'Forest', 'Piggy': 'Brick House'}\n",
      "Augmented Dictionary:{'Jack': 'Jills place', 'Jill': 'Candy Coated2', 'Lil Red': 'Castle', 'Grandma': 'Cabin', 'Big Bad': 'Forest', 'Piggy': 'Brick House'}\n"
     ]
    }
   ],
   "source": [
    "# Using the d[key] = value operator: Sets new value for key in dictionary d\n",
    "print('Original Dictionary:' + str(locations))\n",
    "\n",
    "# Assigning new key value \n",
    "locations['Jack'] = 'Jills place'\n",
    "\n",
    "# Display the augmented dictionary\n",
    "print('Augmented Dictionary:' + str(locations) )"
   ]
  },
  {
   "cell_type": "code",
   "execution_count": 24,
   "metadata": {},
   "outputs": [
    {
     "name": "stdout",
     "output_type": "stream",
     "text": [
      "Original Dictioanary:{'Jack': 'Jills place', 'Jill': 'Candy Coated2', 'Lil Red': 'Castle', 'Grandma': 'Cabin', 'Big Bad': 'Forest', 'Piggy': 'Brick House'}\n",
      "Dictionary name: locations  Key: Jack  Present:True\n",
      "Dictionary name: locations  Key: Juniper  Present:False\n"
     ]
    }
   ],
   "source": [
    "# Using the key in d operator: Returns True if key in dictionary d else returns False\n",
    "print('Original Dictioanary:' + str(locations))\n",
    "\n",
    "# Checking if key is present in dictionary\n",
    "print('Dictionary name: locations ' + ' Key: Jack ' + ' Present:' + str('Jack' in locations))\n",
    "print('Dictionary name: locations ' + ' Key: Juniper ' + ' Present:' + str('Juniper' in locations))"
   ]
  },
  {
   "cell_type": "code",
   "execution_count": 25,
   "metadata": {},
   "outputs": [
    {
     "name": "stdout",
     "output_type": "stream",
     "text": [
      "Original Dictioanary:{'Jack': 'Jills place', 'Jill': 'Candy Coated2', 'Lil Red': 'Castle', 'Grandma': 'Cabin', 'Big Bad': 'Forest', 'Piggy': 'Brick House'}\n",
      "Dictionary name: locations  Key: Jack  Present:False\n",
      "Dictionary name: locations  Key: Juniper  Present:True\n"
     ]
    }
   ],
   "source": [
    "# Using the key not in d operator: Returns True if key not in dictionary d else returns False\n",
    "print('Original Dictioanary:' + str(locations))\n",
    "\n",
    "# Checking if key is present in dictionary\n",
    "print('Dictionary name: locations ' + ' Key: Jack ' + ' Present:' + str('Jack'not in locations))\n",
    "print('Dictionary name: locations ' + ' Key: Juniper ' + ' Present:' + str('Juniper' not in locations))"
   ]
  },
  {
   "cell_type": "code",
   "execution_count": 42,
   "metadata": {},
   "outputs": [
    {
     "name": "stdout",
     "output_type": "stream",
     "text": [
      "Original Dictionary:{'Jack': 'Candy Coated1', 'Jill': 'Candy Coated2', 'Lil Red': 'Castle', 'Grandma': 'Cabin', 'Big Bad': 'Forest', 'Piggy': 'Brick House'}\n"
     ]
    }
   ],
   "source": [
    "# Using the iter(d) method: Returns an iterator over the keys of the dictionay d\n",
    "locations  = {'Jack':'Candy Coated1', 'Jill':'Candy Coated2', 'Lil Red':'Castle', 'Grandma':'Cabin', 'Big Bad':'Forest', 'Piggy':'Brick House'}\n",
    "\n",
    "print('Original Dictionary:' + str(locations))\n"
   ]
  },
  {
   "cell_type": "code",
   "execution_count": 39,
   "metadata": {},
   "outputs": [
    {
     "name": "stdout",
     "output_type": "stream",
     "text": [
      "Original Dictionary:{'Jack': 'Candy Coated1', 'Jill': 'Candy Coated2', 'Lil Red': 'Castle', 'Grandma': 'Cabin', 'Big Bad': 'Forest', 'Piggy': 'Brick House'}\n",
      "Augmented Dictionay:{}\n"
     ]
    }
   ],
   "source": [
    "# Using the clear() method: Removes all the items from a dictionary\n",
    "locations  = {'Jack':'Candy Coated1', 'Jill':'Candy Coated2', 'Lil Red':'Castle', 'Grandma':'Cabin', 'Big Bad':'Forest', 'Piggy':'Brick House',}\n",
    "\n",
    "print('Original Dictionary:' + str(locations))\n",
    "\n",
    "# Clearing all values from the dictionary\n",
    "locations.clear()\n",
    "\n",
    "# Display cleared dictionary\n",
    "print('Augmented Dictionay:' + str(locations))"
   ]
  },
  {
   "cell_type": "code",
   "execution_count": 43,
   "metadata": {},
   "outputs": [
    {
     "name": "stdout",
     "output_type": "stream",
     "text": [
      "Original Dictionary:{'Jack': 'Candy Coated1', 'Jill': 'Candy Coated2', 'Lil Red': 'Castle', 'Grandma': 'Cabin', 'Big Bad': 'Forest', 'Piggy': 'Brick House'}\n",
      "Augmented Dictionary:{'Jack': 'Candy Coated1', 'Jill': 'Candy Coated2', 'Lil Red': 'Castle', 'Grandma': 'Cabin', 'Big Bad': 'Forest', 'Piggy': 'Brick House'}\n"
     ]
    }
   ],
   "source": [
    "# Using the copy() method: Returns a shallow copy of the dictionary\n",
    "locations  = {'Jack':'Candy Coated1', 'Jill':'Candy Coated2', 'Lil Red':'Castle', 'Grandma':'Cabin', 'Big Bad':'Forest', 'Piggy':'Brick House',}\n",
    "\n",
    "print('Original Dictionary:' + str(locations))\n",
    "\n",
    "# Assigning copy of dictionary to a variable\n",
    "cpy = locations.copy()\n",
    "\n",
    "# Displaying the augmented dictionary\n",
    "print('Augmented Dictionary:' + str(cpy))"
   ]
  },
  {
   "cell_type": "code",
   "execution_count": 45,
   "metadata": {},
   "outputs": [
    {
     "name": "stdout",
     "output_type": "stream",
     "text": [
      "Original Dictionary:{'Jack': 'Candy Coated1', 'Jill': 'Candy Coated2', 'Lil Red': 'Castle', 'Grandma': 'Cabin', 'Big Bad': 'Forest', 'Piggy': 'Brick House'}\n",
      "Dictionary Name:locations  Key:Jack  Value:Candy Coated1\n",
      "Dictionary Name:locations  Key:Juniper  Value:Nope\n"
     ]
    }
   ],
   "source": [
    "# Using the get(key, default) method: Returns the value for the key if key is in dictionary else returns default (if default not set returns None)\n",
    "print('Original Dictionary:' + str(locations))\n",
    "\n",
    "# Displaying the key-value for the dictionary\n",
    "print('Dictionary Name:locations ' + ' Key:Jack ' + ' Value:' + str(locations.get('Jack', 'Nope')))\n",
    "print('Dictionary Name:locations ' + ' Key:Juniper ' + ' Value:' + str(locations.get('Juniper', 'Nope')))\n",
    "\n"
   ]
  },
  {
   "cell_type": "code",
   "execution_count": 46,
   "metadata": {},
   "outputs": [
    {
     "name": "stdout",
     "output_type": "stream",
     "text": [
      "Original Dictionary:{'Jack': 'Candy Coated1', 'Jill': 'Candy Coated2', 'Lil Red': 'Castle', 'Grandma': 'Cabin', 'Big Bad': 'Forest', 'Piggy': 'Brick House'}\n",
      "Dictionary Name:locations  Items:dict_items([('Jack', 'Candy Coated1'), ('Jill', 'Candy Coated2'), ('Lil Red', 'Castle'), ('Grandma', 'Cabin'), ('Big Bad', 'Forest'), ('Piggy', 'Brick House')])\n"
     ]
    }
   ],
   "source": [
    "# Using the items() method: Returns a view of the dictionary items\n",
    "print('Original Dictionary:' + str(locations))\n",
    "\n",
    "# Displaying the dictionary items\n",
    "print('Dictionary Name:locations ' +  ' Items:' + str(locations.items()))"
   ]
  },
  {
   "cell_type": "code",
   "execution_count": 54,
   "metadata": {},
   "outputs": [
    {
     "name": "stdout",
     "output_type": "stream",
     "text": [
      "Original Dictionary:{'Jack': 'Candy Coated1', 'Jill': 'Candy Coated2', 'Lil Red': 'Castle', 'Grandma': 'Cabin', 'Big Bad': 'Forest', 'Piggy': 'Brick House'}\n",
      "Dictionary Name:locations  Key:Jack  Value:Candy Coated1\n",
      "Augmented Dictionary:{'Jill': 'Candy Coated2', 'Lil Red': 'Castle', 'Grandma': 'Cabin', 'Big Bad': 'Forest', 'Piggy': 'Brick House'}\n"
     ]
    }
   ],
   "source": [
    "# Using the pop(key, default) method: Removes and returns the key-value pair from the dictionary (LIFO Order)\n",
    "locations  = {'Jack':'Candy Coated1', 'Jill':'Candy Coated2', 'Lil Red':'Castle', 'Grandma':'Cabin', 'Big Bad':'Forest', 'Piggy':'Brick House',}\n",
    "\n",
    "print('Original Dictionary:' + str(locations))\n",
    "\n",
    "# Display the key-value pair and popped dictionary\n",
    "print('Dictionary Name:locations '+' Key:Jack  Value:'+ str(locations.pop('Jack', 'Nope')))\n",
    "print('Augmented Dictionary:' + str(locations))\n"
   ]
  },
  {
   "cell_type": "code",
   "execution_count": 58,
   "metadata": {},
   "outputs": [
    {
     "name": "stdout",
     "output_type": "stream",
     "text": [
      "Original Dictionary:{'Jack': 'Candy Coated1', 'Jill': 'Candy Coated2', 'Lil Red': 'Castle', 'Grandma': 'Cabin', 'Big Bad': 'Forest', 'Piggy': 'Brick House'}\n",
      "Dictionary Keys (Reversed): ['Piggy', 'Big Bad', 'Grandma', 'Lil Red', 'Jill', 'Jack']\n"
     ]
    }
   ],
   "source": [
    "# Using the reversed(d) operator: Returns a reversed order of dictionary keys\n",
    "locations  = {'Jack':'Candy Coated1', 'Jill':'Candy Coated2', 'Lil Red':'Castle', 'Grandma':'Cabin', 'Big Bad':'Forest', 'Piggy':'Brick House',}\n",
    "print('Original Dictionary:' + str(locations))\n",
    "\n",
    "# Display the reversed key items in dictionary d\n",
    "print('Dictionary Keys (Reversed): ' + str(list(reversed(locations))))"
   ]
  },
  {
   "cell_type": "code",
   "execution_count": 62,
   "metadata": {},
   "outputs": [
    {
     "name": "stdout",
     "output_type": "stream",
     "text": [
      "Original Dictionary:{'Jack': 'Candy Coated1', 'Jill': 'Candy Coated2', 'Lil Red': 'Castle', 'Grandma': 'Cabin', 'Big Bad': 'Forest', 'Piggy': 'Brick House', 'Juniper': \"Uncle's House\"}\n",
      "Dictionary Name:locations Key: Jack  Value: Candy Coated1\n",
      "Dictionary Name:locations Key: Juniper  Value: Uncle's House\n",
      "Augmented Dictionary:{'Jack': 'Candy Coated1', 'Jill': 'Candy Coated2', 'Lil Red': 'Castle', 'Grandma': 'Cabin', 'Big Bad': 'Forest', 'Piggy': 'Brick House', 'Juniper': \"Uncle's House\"}\n"
     ]
    }
   ],
   "source": [
    "# Using the setdefault(key, default) method: Returns key value if key is present in dictionary else returns inserts key with value default\n",
    "print('Original Dictionary:' + str(locations))\n",
    "\n",
    "# Check if key is present or insert new key value\n",
    "print('Dictionary Name:locations Key: Jack ' + ' Value: ' +  str(locations.setdefault('Jack','Candy House')))\n",
    "print('Dictionary Name:locations Key: Juniper ' + ' Value: ' +  str(locations.setdefault('Juniper','Uncle\\'s House')))\n",
    "print('Augmented Dictionary:' + str(locations))"
   ]
  },
  {
   "cell_type": "code",
   "execution_count": 69,
   "metadata": {},
   "outputs": [
    {
     "name": "stdout",
     "output_type": "stream",
     "text": [
      "Orignal Dictionary:{'Jack': 'Candy Coated1', 'Jill': 'Candy Coated2', 'Lil Red': 'Castle', 'Grandma': 'Cabin', 'Big Bad': 'Forest', 'Piggy': 'Brick House'}\n",
      "Augmented Dictionary:{'Jack': 'Candy Coated1', 'Jill': 'Candy Coated2', 'Lil Red': 'Castle', 'Grandma': 'Cabin', 'Big Bad': 'Forest', 'Piggy': 'Brick House', 'Micheal Jordan': 5247, 'Kobe Bryant': 4252, 'Lebron James': 48621}\n"
     ]
    }
   ],
   "source": [
    "# Using update(other) method: Returns updated key-value paris in dictionary d from other dictionary\n",
    "locations  = {'Jack':'Candy Coated1', 'Jill':'Candy Coated2', 'Lil Red':'Castle', 'Grandma':'Cabin', 'Big Bad':'Forest', 'Piggy':'Brick House',}\n",
    "\n",
    "print('Orignal Dictionary:' + str(locations))\n",
    "\n",
    "# Updating dictionary with new key - value pairs\n",
    "locations.update(d)\n",
    "\n",
    "# Display the augmented dictionary\n",
    "print('Augmented Dictionary:' + str(locations))"
   ]
  },
  {
   "cell_type": "code",
   "execution_count": 73,
   "metadata": {},
   "outputs": [
    {
     "name": "stdout",
     "output_type": "stream",
     "text": [
      "Original Dictionary:{'Jack': 'Candy Coated1', 'Jill': 'Candy Coated2', 'Lil Red': 'Castle', 'Grandma': 'Cabin', 'Big Bad': 'Forest', 'Piggy': 'Brick House'}\n",
      "Dictionary Name:locations  Values:dict_values(['Candy Coated1', 'Candy Coated2', 'Castle', 'Cabin', 'Forest', 'Brick House'])\n"
     ]
    }
   ],
   "source": [
    "# Using the values() method: Returns a new view of the dictionary values in a list format\n",
    "locations  = {'Jack':'Candy Coated1', 'Jill':'Candy Coated2', 'Lil Red':'Castle', 'Grandma':'Cabin', 'Big Bad':'Forest', 'Piggy':'Brick House',}\n",
    "\n",
    "print('Original Dictionary:' + str(locations))\n",
    "\n",
    "# Display the dictionary values\n",
    "print('Dictionary Name:locations ' + ' Values:' + str(locations.values()))"
   ]
  },
  {
   "cell_type": "code",
   "execution_count": 75,
   "metadata": {},
   "outputs": [
    {
     "name": "stdout",
     "output_type": "stream",
     "text": [
      "Original Dictionary:{'Jack': 'Candy Coated1', 'Jill': 'Candy Coated2', 'Lil Red': 'Castle', 'Grandma': 'Cabin', 'Big Bad': 'Forest', 'Piggy': 'Brick House'}\n",
      "Dictionary Names:locations, d   Meregd key-value pairs:{'Jack': 'Candy Coated1', 'Jill': 'Candy Coated2', 'Lil Red': 'Castle', 'Grandma': 'Cabin', 'Big Bad': 'Forest', 'Piggy': 'Brick House', 'Micheal Jordan': 5247, 'Kobe Bryant': 4252, 'Lebron James': 48621}\n"
     ]
    }
   ],
   "source": [
    "# Using the d | other method: Returns the merged key and value of dictionaries giving priority to first dictionary key-value pairs\n",
    "locations  = {'Jack':'Candy Coated1', 'Jill':'Candy Coated2', 'Lil Red':'Castle', 'Grandma':'Cabin', 'Big Bad':'Forest', 'Piggy':'Brick House',}\n",
    "\n",
    "print('Original Dictionary:' + str(locations))\n",
    "print('Original Dictionary:' + str(d))\n",
    "\n",
    "# Display the merged key-value pairs for dictionary d and other\n",
    "print('Dictionary Names:locations, d   Meregd key-value pairs:' + str(locations | d))"
   ]
  },
  {
   "cell_type": "code",
   "execution_count": 86,
   "metadata": {},
   "outputs": [],
   "source": [
    "# Using d | = other method: Returns updated key-value pairs of dictionary d from other dictionary\n",
    "locations  = {'Jack':'Candy Coated1', 'Jill':'Candy Coated2', 'Lil Red':'Castle', 'Grandma':'Cabin', 'Big Bad':'Forest', 'Piggy':'Brick House',}\n"
   ]
  },
  {
   "cell_type": "code",
   "execution_count": null,
   "metadata": {},
   "outputs": [],
   "source": []
  },
  {
   "cell_type": "code",
   "execution_count": null,
   "metadata": {},
   "outputs": [],
   "source": []
  }
 ],
 "metadata": {
  "kernelspec": {
   "display_name": "Python 3",
   "language": "python",
   "name": "python3"
  },
  "language_info": {
   "codemirror_mode": {
    "name": "ipython",
    "version": 3
   },
   "file_extension": ".py",
   "mimetype": "text/x-python",
   "name": "python",
   "nbconvert_exporter": "python",
   "pygments_lexer": "ipython3",
   "version": "3.10.7"
  },
  "orig_nbformat": 4,
  "vscode": {
   "interpreter": {
    "hash": "df95319d8ce4e1d89f5365ae10992bc1f65da593082b1d264e8f529830ec2f02"
   }
  }
 },
 "nbformat": 4,
 "nbformat_minor": 2
}
