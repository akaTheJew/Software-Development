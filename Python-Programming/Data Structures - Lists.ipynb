{
 "cells": [
  {
   "cell_type": "code",
   "execution_count": 126,
   "metadata": {},
   "outputs": [],
   "source": [
    "# Using Lists & List functions to carry out various operation using Python\n",
    "# Defining lists (lists can store both numerical and string values)\n",
    "day = ['Monday','Tuesday','Wednesday','Thursday','Friday','Saturday','Sunday']\n",
    "friends = [\"David\", \"Raymond\", \"Harmony\", \"Emmanuel\", \"Kusanele\"]\n",
    "ages = [23, 25, 29, 22, 27]"
   ]
  },
  {
   "cell_type": "code",
   "execution_count": 146,
   "metadata": {},
   "outputs": [
    {
     "name": "stdout",
     "output_type": "stream",
     "text": [
      "Exercise: Posistive Indexing [0 - n]\n",
      "David\n",
      "Raymond\n",
      "Harmony\n",
      "Emmanuel\n",
      "Kusanele\n",
      "\n",
      "Exercise: Negative Indexing [-n - -1]\n",
      "Kusanele\n",
      "Emmanuel\n",
      "Harmony\n",
      "Raymond\n",
      "David\n",
      "\n"
     ]
    }
   ],
   "source": [
    "# Using Common Sequence Operations on lists\n",
    "# Using s[i] operator: Displays the ith item in the string s\n",
    "# i (+ve) [0 - (len[s]-1)] indexing\n",
    "# i (-ve) [-(len[s]) - -1] indexing\n",
    "\n",
    "# Positive indexing: Starts at 0\n",
    "print(\"Exercise: Posistive Indexing [0 - n]\")\n",
    "print(friends[0])\n",
    "print(friends[1])\n",
    "print(friends[2])\n",
    "print(friends[3])\n",
    "print(friends[4] + \"\\n\")\n",
    "\n",
    "# Negative indexing: Starts at -1\n",
    "print(\"Exercise: Negative Indexing [-n - -1]\")\n",
    "print(friends[-1])\n",
    "print(friends[-2])\n",
    "print(friends[-3])\n",
    "print(friends[-4])\n",
    "print(friends[-5] + \"\\n\")"
   ]
  },
  {
   "cell_type": "code",
   "execution_count": 102,
   "metadata": {},
   "outputs": [
    {
     "name": "stdout",
     "output_type": "stream",
     "text": [
      "Exercise: Retrieving items from a list slice\n",
      "Original List:['David', 'Maya Ng', 'Raymond', 'Harmony', 'Emmanuel', 'Kusanele']\n",
      "Augmented List1:['Maya Ng', 'Raymond', 'Harmony', 'Emmanuel']\n",
      "Augmented List2:['David', 'Raymond', 'Emmanuel']\n"
     ]
    }
   ],
   "source": [
    "# Using the s[i:j:k] operator: Displays the slice of s fron i - j with a step k\n",
    "# i argument - indicates the start index of the slice\n",
    "# j argument - indicates the end index of the slice\n",
    "# k argument - indicated the items to skip (step) when retrieving from the slice [i:j]\n",
    "print('Exercise: Retrieving items from a list slice')\n",
    "print('Original List:' + str(friends))\n",
    "a = friends[1:5]\n",
    "b = friends[::2]\n",
    "print('Augmented List1:' + str(a)) # Retrieves items in the slice 1:5 of list friends\n",
    "print('Augmented List2:' + str(b)) # Skips every second item in the list"
   ]
  },
  {
   "cell_type": "code",
   "execution_count": 104,
   "metadata": {},
   "outputs": [
    {
     "name": "stdout",
     "output_type": "stream",
     "text": [
      "Exercise: Returns the length of a string\n",
      "Friends list length:6\n",
      "Ages list length:5\n",
      "Day list length:7\n"
     ]
    }
   ],
   "source": [
    "# Using the len(s) operator: Returns the length of a string s\n",
    "print('Exercise: Returns the length of a string')\n",
    "\n",
    "# Assign the list lengths to variables\n",
    "a = len(friends)\n",
    "b = len(ages)\n",
    "c = len(day)\n",
    "\n",
    "# Displaying the list lengths \n",
    "print('Friends list length:' + str(a))\n",
    "print('Ages list length:' + str(b))\n",
    "print('Day list length:' + str(c))\n",
    "  "
   ]
  },
  {
   "cell_type": "code",
   "execution_count": 109,
   "metadata": {},
   "outputs": [
    {
     "name": "stdout",
     "output_type": "stream",
     "text": [
      "Exercise: Retrieveing the min and max values from a list\n",
      "Original List:[29, 27, 25, 23, 22]\n",
      "Original List:['David', 'Maya Ng', 'Raymond', 'Harmony', 'Emmanuel', 'Kusanele']\n",
      "Augmented List (Max Value):29\n",
      "Augmented List (Min Value):David\n"
     ]
    }
   ],
   "source": [
    "# Using the min(s), max(s) operators: Returns the min and max items in a list s\n",
    "print('Exercise: Retrieveing the min and max values from a list') \n",
    "\n",
    "# Assigning the min and max values to a variable \n",
    "a = max(ages) # Returns the max numerical value for a list of numbers\n",
    "b = min(friends) # Returns the item with the lowest index position s[0]: The first item\n",
    "\n",
    "# Displaying the min, max values\n",
    "print('Original List:' + str(ages))\n",
    "print('Original List:' + str(friends))\n",
    "print('Augmented List (Max Value):' + str(a))\n",
    "print('Augmented List (Min Value):' + str(b))"
   ]
  },
  {
   "cell_type": "code",
   "execution_count": 112,
   "metadata": {},
   "outputs": [
    {
     "name": "stdout",
     "output_type": "stream",
     "text": [
      "Exercise: Check if a value x is present in a list s\n",
      "Original List:[29, 27, 25, 23, 22]\n",
      "25 Present in Ages:True\n"
     ]
    }
   ],
   "source": [
    "# Using the x in s operator: Returns True if an item of value x is in list s else returns False\n",
    "print('Exercise: Check if a value x is present in a list')\n",
    "print('Original List:' + str(ages))\n",
    "\n",
    "# Assign check to variable \n",
    "a = 25 in ages\n",
    "\n",
    "# Display the check if value is present in the list\n",
    "print('25 Present in Ages:' + str(a))\n"
   ]
  },
  {
   "cell_type": "code",
   "execution_count": 113,
   "metadata": {},
   "outputs": [
    {
     "name": "stdout",
     "output_type": "stream",
     "text": [
      "Exercise: Check if a value x is no in a list\n",
      "Original List:[29, 27, 25, 23, 22]\n",
      "24 Not Present in Ages:True\n"
     ]
    }
   ],
   "source": [
    "# Using the x not in s operator: Returns False if item of value x is in list s else returns True\n",
    "print('Exercise: Check if a value x is no in a list')\n",
    "print('Original List:' + str(ages))\n",
    "\n",
    "# Assign check to variable\n",
    "a = 24 not in ages\n",
    "\n",
    "# Display the check if value not present in the list\n",
    "print('24 Not Present in Ages:' + str(a))"
   ]
  },
  {
   "cell_type": "code",
   "execution_count": 117,
   "metadata": {},
   "outputs": [
    {
     "name": "stdout",
     "output_type": "stream",
     "text": [
      "Exercise: Concatenante two lists together\n",
      "Oriinal List1:['David', 'Maya Ng', 'Raymond', 'Harmony', 'Emmanuel', 'Kusanele']\n",
      "Oriinal List2:[29, 27, 25, 23, 22]\n",
      "Aumented List:[27, 25, 23, 'Maya Ng', 'Raymond', 'Harmony']\n"
     ]
    }
   ],
   "source": [
    " # Using the s + t operator: Returns the Concatenation of list s and list t\n",
    "print('Exercise: Concatenante two lists together') \n",
    "print('Oriinal List1:' + str(friends))\n",
    "print('Oriinal List2:' + str(ages))\n",
    "\n",
    "# Assigning concatenated list to variable\n",
    "a = ages[1:4] + friends[1:4] \n",
    "\n",
    "# Displaying the concatenated list \n",
    "print('Aumented List:' + str(a))"
   ]
  },
  {
   "cell_type": "code",
   "execution_count": 119,
   "metadata": {},
   "outputs": [
    {
     "name": "stdout",
     "output_type": "stream",
     "text": [
      "Exercise: Add a list to itself n times\n",
      "Original List:[29, 27, 25, 23, 22]\n",
      "Augmented List:[29, 27, 25, 23, 22, 29, 27, 25, 23, 22, 29, 27, 25, 23, 22]\n"
     ]
    }
   ],
   "source": [
    "# Using the s*n or n*s operator: Adds a list s to itsel n times\n",
    "print('Exercise: Add a list to itself n times')\n",
    "print('Original List:' + str(ages))\n",
    "\n",
    "# Assiging the self list extension iterration to a variable.\n",
    "a = ages*3\n",
    "\n",
    "# Displaying the iterated list \n",
    "print('Augmented List:' + str(a))"
   ]
  },
  {
   "cell_type": "code",
   "execution_count": 121,
   "metadata": {},
   "outputs": [
    {
     "name": "stdout",
     "output_type": "stream",
     "text": [
      "Exersise: Replacing and item in a list with a given value\n",
      "Original List:['David', 'Maya Ng', 'Raymond', 'Harmony', 'Emmanuel', 'Kusanele']\n",
      "Augmented List:['Murithi', 'Maya Ng', 'Raymond', 'Harmony', 'Emmanuel', 'Kusanele']\n"
     ]
    }
   ],
   "source": [
    "# Using mutable sequence operations\n",
    "# Using the s[i] = x operator: Item of index i in list s is replaced by value x \n",
    "print('Exersise: Replacing and item in a list with a given value')\n",
    "print('Original List:' + str(friends))\n",
    "\n",
    "# Assigning different value to friends list\n",
    "friends[0] = 'Murithi'\n",
    "\n",
    "# Displaying the augmented list\n",
    "print('Augmented List:' + str(friends))"
   ]
  },
  {
   "cell_type": "code",
   "execution_count": 144,
   "metadata": {},
   "outputs": [
    {
     "name": "stdout",
     "output_type": "stream",
     "text": [
      "Exercise: Replacing slice of a list with value of iterable t\n",
      "Original List:['Monday', 'Tuesday', 'Wednesday', 'Thursday', 'Friday', 'Saturday', 'Sunday']\n",
      "Augmented List:['S', 'a', 't', 'u', 'r', 'd', 'a', 'y', 'Friday', 'Saturday', 'Sunday']\n",
      "Augmented List:[5, 6, 8, 4, 3, 2, 4, 9, 'Saturday', 'Sunday']\n"
     ]
    }
   ],
   "source": [
    "# Using the s[i:j:k] = t operator: Replaces the slice [i:j] with the contents of iterable t\n",
    "# i argument - Indicates start of slice\n",
    "# j argument - Indicates end of slice \n",
    "# k argument (optional) - Insdicates items to skip when assigning values \n",
    " \n",
    "day = ['Monday','Tuesday','Wednesday','Thursday','Friday','Saturday','Sunday']\n",
    "print('Exercise: Replacing slice of a list with value of iterable t')\n",
    "print('Original List:' + str(day))\n",
    "\n",
    "# Replacing  slice\n",
    "day[0:4] = 'Saturday'\n",
    "\n",
    "# Displaying the augmented list\n",
    "print('Augmented List:' + str(day))\n",
    "\n",
    "# Replacing  slice\n",
    "day[0:9] = [i for i in [5,6,8,4,3,2,4,9]]\n",
    "\n",
    "# Displaying the augmented list\n",
    "print('Augmented List:' + str(day))\n"
   ]
  },
  {
   "cell_type": "code",
   "execution_count": 145,
   "metadata": {},
   "outputs": [
    {
     "name": "stdout",
     "output_type": "stream",
     "text": [
      "Exercise: Delete items [i:j] from a list while skipping k steps\n",
      "Original List:[5, 6, 8, 4, 3, 2, 4, 9, 'Saturday', 'Sunday']\n",
      "Augmented List1:[6, 8, 3, 2, 9, 'Saturday', 'Sunday']\n",
      "Augmented List2:['Saturday', 'Sunday']\n"
     ]
    }
   ],
   "source": [
    "# Using the del s[i:j:k] operator: Deletes items within a slice [i:j] from a list s with the option to skip k steps\n",
    "\n",
    "print ('Exercise: Delete items [i:j] from a list while skipping k steps')\n",
    "print('Original List:' + str(day))\n",
    "\n",
    "# Deleting items in range [0:9] skiping every second item\n",
    "del day[0:9:3]\n",
    "\n",
    "# Displaying the augmented list \n",
    "print('Augmented List1:' + str(day))\n",
    "\n",
    "# Delteing items in range [0:5] without skipping any items\n",
    "del day[0:5:]\n",
    "\n",
    "# Displaying the augmented list\n",
    "print('Augmented List2:' + str(day))"
   ]
  },
  {
   "cell_type": "code",
   "execution_count": 74,
   "metadata": {},
   "outputs": [
    {
     "name": "stdout",
     "output_type": "stream",
     "text": [
      "Exercise: Using the Extend function\n",
      "Original List:['David', 'Raymond', 'Harmony', 'Emmanuel', 'Kusanele']\n",
      "['David', 'Raymond', 'Harmony', 'Emmanuel', 'Kusanele', 'C', 'y', 'n', 't', 'h', 'i', 'a', '2', '7', '[', '2', '9', ',', ' ', '2', '2', ']', 'Wednesday', 'Thursday', 'Friday', 'Saturday', 'Sunday', 23, 25, 29, 22, 27]\n"
     ]
    }
   ],
   "source": [
    "# Using list Methods \n",
    "# Using the extend(iterable) method: Appends individual items or items from an iterable onto a list \n",
    "# Iterable - list, set, tuple\n",
    "# Appending ages and day list onto the friends list \n",
    "friends = [\"David\", \"Raymond\", \"Harmony\", \"Emmanuel\", \"Kusanele\"]\n",
    "print(\"Exercise: Using the Extend function\")\n",
    "print('Original List:' + str(friends))\n",
    "friends.extend('Cynthia') # Appends individual characters for individual strings\n",
    "friends.extend(str(ages[-1])) # List of integers require conversion to strings to be iterable \n",
    "friends.extend(str(ages[2:-1])) # List of integers require conversion to strings to be iterable \n",
    "friends.extend(day[2:]) # Appends list of strings without seperation\n",
    "friends.extend(ages) # Appends entire list of integers without seperation\n",
    "# Assigning appended list to new variable extlist\n",
    "print(friends)\n",
    "#extlist = friends\n",
    "#print(str(extlist) + \"\\n\")"
   ]
  },
  {
   "cell_type": "code",
   "execution_count": 77,
   "metadata": {},
   "outputs": [
    {
     "name": "stdout",
     "output_type": "stream",
     "text": [
      "Exercise: Using the Append function\n",
      "['David', 'Raymond', 'Harmony', 'Emmanuel', 'Kusanele', 'Rivoni', 23, [23, 25, 29]]\n",
      "\n"
     ]
    }
   ],
   "source": [
    "# Using the append(x) method: Adds individual items onto a list  \n",
    "friends = [\"David\", \"Raymond\", \"Harmony\", \"Emmanuel\", \"Kusanele\"]\n",
    "print(\"Exercise: Using the Append function\")\n",
    "friends.append(\"Rivoni\") # Adding individual strings onto end of a list\n",
    "friends.append(ages[0]) # Adding individual items onto end of a list using indexing\n",
    "friends.append(ages[0:3]) # Adding a list with several items onto another list \n",
    "print(str(friends) + \"\\n\") "
   ]
  },
  {
   "cell_type": "code",
   "execution_count": 84,
   "metadata": {},
   "outputs": [
    {
     "name": "stdout",
     "output_type": "stream",
     "text": [
      "Exercise: Using the Counts function\n",
      "Value:23    Count:1\n",
      "Value:23    Count:1\n",
      "\n"
     ]
    }
   ],
   "source": [
    "# Using the count(x) method: Returns the # of times x appears in the list\n",
    "print(\"Exercise: Using the Counts function\")\n",
    "print('Value:' +str(23) + '    Count:'+ str(friends.count(23)))\n",
    "print('Value:' +str(ages[0]) + '    Count:'+ str(friends.count(ages[0])) + \"\\n\")\n"
   ]
  },
  {
   "cell_type": "code",
   "execution_count": 90,
   "metadata": {},
   "outputs": [
    {
     "name": "stdout",
     "output_type": "stream",
     "text": [
      "Exercise: Using the Reverse function\n",
      "Augmented List:['David', 'Emmanuel', 'Harmony', 'Kusanele', 'Raymond']\n",
      "Augmented List:[22, 23, 25, 27, 29]\n",
      "\n"
     ]
    }
   ],
   "source": [
    "# Using the sort(*, key = None, reverse = Flase) method: Arranges values alphabetically or numerically in ascending order (default) or descending order\n",
    "# key argument - function that sets the sorting criteria\n",
    "# reverse argument - Boolean value that determines order of sorting (ascending/descending)\n",
    "print(\"Exercise: Using the Reverse function\")\n",
    "friends.sort()\n",
    "ages.sort()\n",
    "print('Augmented List:' + str(friends))\n",
    "print('Augmented List:' + str(ages) + '\\n')"
   ]
  },
  {
   "cell_type": "code",
   "execution_count": 93,
   "metadata": {},
   "outputs": [
    {
     "name": "stdout",
     "output_type": "stream",
     "text": [
      "Exercise: Using the Reverse function\n",
      "Augmented List:['Raymond', 'Kusanele', 'Harmony', 'Emmanuel', 'David']\n",
      "Augmented List:[29, 27, 25, 23, 22]\n",
      "\n"
     ]
    }
   ],
   "source": [
    "# Using the reverse() function: Inverts the order of the list values by index \n",
    "print(\"Exercise: Using the Reverse function\")\n",
    "friends.reverse()\n",
    "ages.reverse()\n",
    "print('Augmented List:' + str(friends))\n",
    "print('Augmented List:' + str(ages) + '\\n')"
   ]
  },
  {
   "cell_type": "code",
   "execution_count": 95,
   "metadata": {},
   "outputs": [
    {
     "name": "stdout",
     "output_type": "stream",
     "text": [
      "Exercise: Using the Copy function\n",
      "['Raymond', 'Kusanele', 'Harmony', 'Emmanuel', 'David']\n",
      "['Raymond', 'Kusanele', 'Harmony', 'Emmanuel', 'David']\n"
     ]
    }
   ],
   "source": [
    "# Using the copy() function: Create a copy(list) of a list equivalent to a[:]\n",
    "print(\"Exercise: Using the Copy function\")\n",
    "friends_copy= friends.copy()\n",
    "print(str(friends) + \"\\n\" + str(friends_copy))"
   ]
  },
  {
   "cell_type": "code",
   "execution_count": 96,
   "metadata": {},
   "outputs": [
    {
     "name": "stdout",
     "output_type": "stream",
     "text": [
      "Exercise: Inserting values into a list\n",
      "Original List:['David', 'Raymond', 'Harmony', 'Emmanuel', 'Kusanele']\n",
      "Augmented List:['David', 'Maya Ng', 'Raymond', 'Harmony', 'Emmanuel', 'Kusanele']\n"
     ]
    }
   ],
   "source": [
    "# Using the insert(i,x) function: Inserts a value:x at index:i in a given list.\n",
    "friends = [\"David\", \"Raymond\", \"Harmony\", \"Emmanuel\", \"Kusanele\"]\n",
    "print('Exercise: Inserting values into a list')\n",
    "print('Original List:' + str(friends))\n",
    "friends.insert(1, 'Maya Ng')\n",
    "print('Augmented List:' + str(friends))"
   ]
  },
  {
   "cell_type": "code",
   "execution_count": 17,
   "metadata": {},
   "outputs": [
    {
     "name": "stdout",
     "output_type": "stream",
     "text": [
      "Exercise: Removing items from lists\n",
      "Original List:[23, 25, 29, 22, 27]\n",
      "Augmented List:[25, 22, 27]\n"
     ]
    }
   ],
   "source": [
    "# Using the remove(x) function: Removes the first item with value x \n",
    "ages = [23, 25, 29, 22, 27]\n",
    "print('Exercise: Removing items from lists using the remove function')\n",
    "print('Original List:' + str(ages))\n",
    "ages.remove(29)     # Using the item value\n",
    "ages.remove(ages[0])    # Using the list index\n",
    "print('Augmented List:' + str(ages))"
   ]
  },
  {
   "cell_type": "code",
   "execution_count": 21,
   "metadata": {},
   "outputs": [
    {
     "name": "stdout",
     "output_type": "stream",
     "text": [
      "Exercise: Popping items from a list using the pop function\n",
      "Original List:[23, 25, 29, 22, 27]\n",
      "Augmented List:[23, 29, 22] Deleted Item(s):25\n"
     ]
    }
   ],
   "source": [
    "# Using the pop[i] function: Removes item in the given postion i in the list. If i is not specified will remove and return the last item in the list\n",
    "ages = [23, 25, 29, 22, 27]\n",
    "print('Exercise: Popping items from a list using the pop function')\n",
    "print('Original List:' + str(ages))\n",
    "a = ages.pop(1) # Deleted items can be assigned to a variable\n",
    "ages.pop() # Items can be popped without assigning to a variable\n",
    "print('Augmented List:' + str(ages) + ' Deleted Item(s):' + str(a))"
   ]
  },
  {
   "cell_type": "code",
   "execution_count": 22,
   "metadata": {},
   "outputs": [
    {
     "name": "stdout",
     "output_type": "stream",
     "text": [
      "Exercise: Clear all items from a list using the clear function\n",
      "Original List:[23, 25, 29, 22, 27]\n",
      "Augmented List:[]\n"
     ]
    }
   ],
   "source": [
    "# Using the clear() function: removes all items from a list can be equated to del list[:]. Does not take arguments \n",
    "ages = [23, 25, 29, 22, 27]\n",
    "print('Exercise: Clear all items from a list using the clear function')\n",
    "print('Original List:' + str(ages))\n",
    "ages.clear()\n",
    "print('Augmented List:' + str(ages))"
   ]
  },
  {
   "cell_type": "code",
   "execution_count": 36,
   "metadata": {},
   "outputs": [
    {
     "name": "stdout",
     "output_type": "stream",
     "text": [
      "Exercise: Retrieving the Index position of the x value in the list\n",
      "Original List:[23, 25, 29, 22, 27]\n",
      "x value:29\n",
      "Index Position:2\n"
     ]
    }
   ],
   "source": [
    "# Using the index(x,start,end): Returns a zero-based index in the list of first item whose value == x \n",
    "#Start argument (optional) - slice notation indicating begining of search index\n",
    "#End argument (optional) - slice notation indicatinf end of search index\n",
    "ages = [23, 25, 29, 22, 27]\n",
    "print('Exercise: Retrieving the Index position of the x value in the list')\n",
    "print('Original List:' + str(ages))\n",
    "a = ages.index(ages[2],1,3) # index position can be assigned to a variable\n",
    "print('x value:' + str(ages[2]) + '\\nIndex Position:' + str(a) )"
   ]
  },
  {
   "cell_type": "code",
   "execution_count": null,
   "metadata": {},
   "outputs": [],
   "source": []
  }
 ],
 "metadata": {
  "kernelspec": {
   "display_name": "Python 3",
   "language": "python",
   "name": "python3"
  },
  "language_info": {
   "codemirror_mode": {
    "name": "ipython",
    "version": 3
   },
   "file_extension": ".py",
   "mimetype": "text/x-python",
   "name": "python",
   "nbconvert_exporter": "python",
   "pygments_lexer": "ipython3",
   "version": "3.10.7"
  },
  "orig_nbformat": 4,
  "vscode": {
   "interpreter": {
    "hash": "df95319d8ce4e1d89f5365ae10992bc1f65da593082b1d264e8f529830ec2f02"
   }
  }
 },
 "nbformat": 4,
 "nbformat_minor": 2
}
