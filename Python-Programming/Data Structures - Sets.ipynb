{
 "cells": [
  {
   "cell_type": "code",
   "execution_count": 31,
   "metadata": {},
   "outputs": [],
   "source": [
    "# Defining Sets \n",
    "name = {'John','Howerton','Spencer','Linus','Ludwin'}\n",
    "numbers1 = {n for n in '12343455667872432'}\n",
    "numbers2 = {n for n in '09897879870998046463'}\n",
    "letter1 = {l for l in 'qazxswedcxswedazxcqwesarfvftbhyrfgvhtr'}\n",
    "letter2 = {l for l in 'njiokmlpniomplkjimoplvrtbuhygfvugftyhbvg'}\n",
    "colors = set(['Red','Purple','Pink','Blue','Magentta','Green','Cyan','Yellow'])"
   ]
  },
  {
   "cell_type": "code",
   "execution_count": 32,
   "metadata": {},
   "outputs": [
    {
     "name": "stdout",
     "output_type": "stream",
     "text": [
      "Original Set:name {'Ludwin', 'Spencer', 'Howerton', 'John', 'Linus'}\n",
      "Original Set:numbers1 {'4', '1', '6', '3', '7', '8', '5', '2'}\n",
      "Set Name:name  No. of elements:5\n",
      "Set Name:numbers1  No. of elements:8\n"
     ]
    }
   ],
   "source": [
    "# Set Operations\n",
    "# Using the len(s) operator: Returns the number of elements in a set s\n",
    "print('Original Set:name ' + str(name))\n",
    "print('Original Set:numbers1 ' + str(numbers1))\n",
    "print('Set Name:name ' + ' No. of elements:'+ str(len(name)))\n",
    "print('Set Name:numbers1 ' + ' No. of elements:'+ str(len(numbers1)))\n"
   ]
  },
  {
   "cell_type": "code",
   "execution_count": 44,
   "metadata": {},
   "outputs": [
    {
     "name": "stdout",
     "output_type": "stream",
     "text": [
      "Original Set:numbers1{'4', '1', '6', '3', '7', '8', '5', '2'}\n",
      "Value:8  Present:True\n"
     ]
    }
   ],
   "source": [
    "# Using the x in s operator: Returns True if value x is present in set s else returns False\n",
    "print('Original Set:numbers1' + str(numbers1))\n",
    "\n",
    "# Testing numbers1 for membership in numbers2\n",
    "print('Value:8 ' + ' Present:' +str('8' in numbers1))"
   ]
  },
  {
   "cell_type": "code",
   "execution_count": 46,
   "metadata": {},
   "outputs": [
    {
     "name": "stdout",
     "output_type": "stream",
     "text": [
      "Original Set:numbers1{'4', '1', '6', '3', '7', '8', '5', '2'}\n",
      "Value:0  Not Present:True\n"
     ]
    }
   ],
   "source": [
    "# Using the x not in s  operator: Returns True if value x is not present in set s else returns False\n",
    "print('Original Set:numbers1' + str(numbers1))\n",
    "\n",
    "# Testing numbers1 for membership in numbers2\n",
    "print('Value:0 ' + ' Not Present:' +str('0' not in numbers1))"
   ]
  },
  {
   "cell_type": "code",
   "execution_count": 47,
   "metadata": {},
   "outputs": [
    {
     "name": "stdout",
     "output_type": "stream",
     "text": [
      "Original Set:name{'Ludwin', 'Spencer', 'Howerton', 'John', 'Linus'}\n",
      "Original Set:numbers1{'4', '1', '6', '3', '7', '8', '5', '2'}\n",
      "Sets:name, numbers1  Disjoint check:True\n"
     ]
    }
   ],
   "source": [
    "# Using the isdisjoint(other) method: Returns True if sets (s, other) have no common elements\n",
    "print('Original Set:name' + str(name))\n",
    "print('Original Set:numbers1' + str(numbers1))\n",
    "\n",
    "# Cheking if sets are disjoint \n",
    "print('Sets:name, numbers1 ' + ' Disjoint check:'+ str(name.isdisjoint(numbers1)))"
   ]
  },
  {
   "cell_type": "code",
   "execution_count": 49,
   "metadata": {},
   "outputs": [
    {
     "name": "stdout",
     "output_type": "stream",
     "text": [
      "Original Set:numbers1{'4', '1', '6', '3', '7', '8', '5', '2'}\n",
      "Original Set:numbers2{'4', '6', '3', '0', '8', '9', '7'}\n",
      "Sets:numbers1, numbers2  Subset check:False\n",
      "Sets:check, numbers1  Subset check:True\n"
     ]
    }
   ],
   "source": [
    "# Using the issubset(other) method: Returns True if every element in set s is in other [s >= other] and s is proper superset of other s != other\n",
    "check = {'4','7','5','2','3'}\n",
    "print('Original Set:numbers1' + str(numbers1))\n",
    "print('Original Set:numbers2' + str(numbers2))\n",
    "\n",
    "# Checking if numbers1 is subset of numbers2\n",
    "print('Sets:numbers1, numbers2 ' + ' Subset check:'+ str(numbers1.issubset(numbers2)))\n",
    "print('Sets:check, numbers1 ' + ' Subset check:'+ str(check.issubset(numbers1)))"
   ]
  },
  {
   "cell_type": "code",
   "execution_count": 50,
   "metadata": {},
   "outputs": [
    {
     "name": "stdout",
     "output_type": "stream",
     "text": [
      "Original Set:check{'2', '4', '3', '5', '7'}\n",
      "Original Set:name{'Ludwin', 'Spencer', 'Howerton', 'John', 'Linus'}\n",
      "Sets:check, name  Union Set{'4', 'John', '3', '7', 'Spencer', 'Howerton', 'Ludwin', 'Linus', '5', '2'}\n"
     ]
    }
   ],
   "source": [
    "# Using the union(*others) method: Returns a new set with elements from set s and all other elements from other\n",
    "check = {'4','7','5','2','3'}\n",
    "print('Original Set:check' + str(check))\n",
    "print('Original Set:name' + str(name))\n",
    "\n",
    "# Displaying the union of check set and name set\n",
    "print('Sets:check, name ' + ' Union Set'+ str(check.union(name)))\n"
   ]
  },
  {
   "cell_type": "code",
   "execution_count": 51,
   "metadata": {},
   "outputs": [
    {
     "name": "stdout",
     "output_type": "stream",
     "text": [
      "Original Set:numbers1{'4', '1', '6', '3', '7', '8', '5', '2'}\n",
      "Original Set:numbers2{'4', '6', '3', '0', '8', '9', '7'}\n",
      "Sets:numbers1, numbers2  Intersection Set{'4', '6', '3', '8', '7'}\n"
     ]
    }
   ],
   "source": [
    "# Using intersection(*others) method: Returns new set with elements common to set s and others\n",
    "print('Original Set:numbers1' + str(numbers1))\n",
    "print('Original Set:numbers2' + str(numbers2))\n",
    "\n",
    "# Display the elements common to set s and other set \n",
    "print('Sets:numbers1, numbers2 ' + ' Intersection Set'+ str(numbers1.intersection(numbers2)))\n"
   ]
  },
  {
   "cell_type": "code",
   "execution_count": 53,
   "metadata": {},
   "outputs": [
    {
     "name": "stdout",
     "output_type": "stream",
     "text": [
      "Original Set:numbers1{'4', '1', '6', '3', '7', '8', '5', '2'}\n",
      "Original Set:numbers2{'4', '6', '3', '0', '8', '9', '7'}\n",
      "Sets:numbers1, numbers2  Difference Set{'1', '5', '2'}\n",
      "Sets:numbers1, numbers2  Difference Set{'0', '9'}\n"
     ]
    }
   ],
   "source": [
    "# Using difference(*others) method: Returns new set with elements in set s not common to other set\n",
    "print('Original Set:numbers1' + str(numbers1))\n",
    "print('Original Set:numbers2' + str(numbers2))\n",
    "\n",
    "# Display the elements common to set s and other set \n",
    "print('Sets:numbers1, numbers2 ' + ' Difference Set'+ str(numbers1.difference(numbers2)))\n",
    "print('Sets:numbers2, numbers1 ' + ' Difference Set'+ str(numbers2.difference(numbers1)))\n"
   ]
  },
  {
   "cell_type": "code",
   "execution_count": 55,
   "metadata": {},
   "outputs": [
    {
     "name": "stdout",
     "output_type": "stream",
     "text": [
      "Original Set:numbers1{'4', '1', '6', '3', '7', '8', '5', '2'}\n",
      "Original Set:numbers2{'4', '6', '3', '0', '8', '9', '7'}\n",
      "Sets:numbers1, numbers2  Difference Set{'1', '0', '9', '5', '2'}\n",
      "Sets:numbers2, numbers1  Difference Set{'1', '0', '9', '5', '2'}\n"
     ]
    }
   ],
   "source": [
    "# Using the symmetric_difference(other) method: Returns new set with elements not common to set s and other set\n",
    "print('Original Set:numbers1' + str(numbers1))\n",
    "print('Original Set:numbers2' + str(numbers2))\n",
    "\n",
    "# Display the elements common to set s and other set \n",
    "print('Sets:numbers1, numbers2 ' + ' Difference Set'+ str(numbers1.symmetric_difference(numbers2)))\n",
    "print('Sets:numbers2, numbers1 ' + ' Difference Set'+ str(numbers2.symmetric_difference(numbers1)))\n"
   ]
  },
  {
   "cell_type": "code",
   "execution_count": 58,
   "metadata": {},
   "outputs": [
    {
     "name": "stdout",
     "output_type": "stream",
     "text": [
      "Original Set:numbers1{'4', '1', '6', '3', '7', '8', '5', '2'}\n",
      "Original Set:numbers2{'4', '6', '3', '0', '8', '9', '7'}\n",
      "Set:numbers1  Copy of set:{'4', '1', '6', '3', '7', '8', '5', '2'}\n"
     ]
    }
   ],
   "source": [
    "# Using the copy() method: Returns a shallow copy of the set \n",
    "print('Original Set:numbers1' + str(numbers1))\n",
    "print('Original Set:numbers2' + str(numbers2))\n",
    "\n",
    "cpy = numbers1.copy()\n",
    "\n",
    "# Display a copy of set s \n",
    "print('Set:numbers1 ' + ' Copy of set:' + str(cpy))"
   ]
  },
  {
   "cell_type": "code",
   "execution_count": 70,
   "metadata": {},
   "outputs": [
    {
     "name": "stdout",
     "output_type": "stream",
     "text": [
      "Original Set:numbers1{'4', '1', '6', '3', '7', '8', '5', '2'}\n",
      "Original Set:numbers2{'4', '6', '3', '0', '8', '9', '7'}\n",
      "Set:numbers1, number2  Updated set:{'4', '1', '6', '3', '7', '0', '8', '9', '5', '2'}\n"
     ]
    }
   ],
   "source": [
    "# Using the update(*others) method: Returns updated set s with all added elements from other set\n",
    "numbers1 = {n for n in '12343455667872432'}\n",
    "numbers2 = {n for n in '09897879870998046463'}\n",
    "\n",
    "print('Original Set:numbers1' + str(numbers1))\n",
    "print('Original Set:numbers2' + str(numbers2))\n",
    "\n",
    "# Update numbers1 with elements from numbers2\n",
    "numbers1.update(numbers2)\n",
    "# Display a copy of set s \n",
    "print('Set:numbers1, number2 ' + ' Updated set:' + str(numbers1))\n"
   ]
  },
  {
   "cell_type": "code",
   "execution_count": 72,
   "metadata": {},
   "outputs": [
    {
     "name": "stdout",
     "output_type": "stream",
     "text": [
      "Original Set:numbers1{'4', '1', '6', '3', '7', '8', '5', '2'}\n",
      "Original Set:numbers2{'4', '6', '3', '0', '8', '9', '7'}\n",
      "Set:numbers1, number2  Updated set:{'4', '6', '3', '8', '7'}\n"
     ]
    }
   ],
   "source": [
    "# Using the intersection_update(*others) method: Update the set with only elements common to set s and other set\n",
    "numbers1 = {n for n in '12343455667872432'}\n",
    "numbers2 = {n for n in '09897879870998046463'}\n",
    "\n",
    "print('Original Set:numbers1' + str(numbers1))\n",
    "print('Original Set:numbers2' + str(numbers2))\n",
    "\n",
    "# Update numbers1 with elements from numbers2\n",
    "numbers1.intersection_update(numbers2)\n",
    "# Display a copy of set s \n",
    "print('Set:numbers1, number2 ' + ' Intersection updated set:' + str(numbers1))\n"
   ]
  },
  {
   "cell_type": "code",
   "execution_count": 73,
   "metadata": {},
   "outputs": [
    {
     "name": "stdout",
     "output_type": "stream",
     "text": [
      "Original Set:numbers1{'4', '1', '6', '3', '7', '8', '5', '2'}\n",
      "Original Set:numbers2{'4', '6', '3', '0', '8', '9', '7'}\n",
      "Set:numbers1, number2  Updated set:{'1', '5', '2'}\n"
     ]
    }
   ],
   "source": [
    "# Using the difference_update(*others) method: Update the set only with elements in set s not common to set s and other set\n",
    "numbers1 = {n for n in '12343455667872432'}\n",
    "numbers2 = {n for n in '09897879870998046463'}\n",
    "\n",
    "print('Original Set:numbers1' + str(numbers1))\n",
    "print('Original Set:numbers2' + str(numbers2))\n",
    "\n",
    "# Update numbers1 with elements from numbers2\n",
    "numbers1.difference_update(numbers2)\n",
    "# Display a copy of set s \n",
    "print('Set:numbers1, number2 ' + ' Updated set:' + str(numbers1))\n"
   ]
  },
  {
   "cell_type": "code",
   "execution_count": 76,
   "metadata": {},
   "outputs": [
    {
     "name": "stdout",
     "output_type": "stream",
     "text": [
      "Original Set:numbers1{'4', '1', '6', '3', '7', '8', '5', '2'}\n",
      "Original Set:numbers2{'4', '6', '3', '0', '8', '9', '7'}\n",
      "Set:numbers1, number2  Updated set:{'1', '0', '9', '5', '2'}\n"
     ]
    }
   ],
   "source": [
    "# Using the symmetric_difference_update(*others) method: Update the set only with elements not common to set s and other set\n",
    "numbers1 = {n for n in '12343455667872432'}\n",
    "numbers2 = {n for n in '09897879870998046463'}\n",
    "\n",
    "print('Original Set:numbers1' + str(numbers1))\n",
    "print('Original Set:numbers2' + str(numbers2))\n",
    "\n",
    "# Update numbers1 with elements from numbers2\n",
    "numbers1.symmetric_difference_update(numbers2)\n",
    "# Display a copy of set s \n",
    "print('Set:numbers1, number2 ' + ' Updated set:' + str(numbers1))\n"
   ]
  },
  {
   "cell_type": "code",
   "execution_count": 87,
   "metadata": {},
   "outputs": [
    {
     "name": "stdout",
     "output_type": "stream",
     "text": [
      "Original Set:numbers1{'4', '1', '6', '3', '7', '8', '5', '2'}\n",
      "Set:numbers1, number2  Updated set:{'happy', '4', '1', '6', '3', '7', '8', '5', '2'}\n"
     ]
    }
   ],
   "source": [
    "# Using the add(elem) method: Returns set s with elem added to it\n",
    "\n",
    "numbers1 = {n for n in '12343455667872432'}\n",
    "print('Original Set:numbers1' + str(numbers1))\n",
    "\n",
    "# Adding specific elelment to set\n",
    "numbers1.add('happy')\n",
    "\n",
    "# Display a copy of set s \n",
    "print('Set:numbers1, number2 ' + ' Updated set:' + str(numbers1))"
   ]
  },
  {
   "cell_type": "code",
   "execution_count": 88,
   "metadata": {},
   "outputs": [
    {
     "name": "stdout",
     "output_type": "stream",
     "text": [
      "Inclusive Set:{'happy', '4', '1', '6', '3', '7', '8', '5', '2'}\n",
      "Augmented Set:{'4', '1', '6', '3', '7', '8', '5', '2'}\n"
     ]
    }
   ],
   "source": [
    "# Using the remove(elem) method: Returns a set s with the elemen elem removed\n",
    "print('Inclusive Set:' + str(numbers1))\n",
    "\n",
    "# Removing the element from the set  \n",
    "numbers1.remove('happy')\n",
    "\n",
    "# Display the augmented set s with the elemet removed\n",
    "print('Augmented Set:' + str(numbers1))"
   ]
  },
  {
   "cell_type": "code",
   "execution_count": 90,
   "metadata": {},
   "outputs": [
    {
     "name": "stdout",
     "output_type": "stream",
     "text": [
      "Original Set:{'Ludwin', 'Spencer', 'Howerton', 'John', 'Linus'}\n",
      "Augmented Set:{'Ludwin', 'Spencer', 'Howerton', 'Linus'}\n"
     ]
    }
   ],
   "source": [
    "# Using the discard(elem) method: Removes element elem from a set s if it is present\n",
    "name = {'John','Howerton','Spencer','Linus','Ludwin'}\n",
    "print('Original Set:' + str(name))\n",
    "# Removing an element from the set s\n",
    "name.discard('John')\n",
    "\n",
    "# Display the augmented set s with the element removed\n",
    "print('Augmented Set:' + str(name))"
   ]
  },
  {
   "cell_type": "code",
   "execution_count": 101,
   "metadata": {},
   "outputs": [
    {
     "name": "stdout",
     "output_type": "stream",
     "text": [
      "Original Set:{'Ludwin', 'Spencer', 'Howerton', 'John', 'Linus'}\n",
      "Arbitrary Element:Ludwin\n",
      "Augmented Set:{'Spencer', 'Howerton', 'John', 'Linus'}\n"
     ]
    }
   ],
   "source": [
    "# Using the pop() method: Remove and returns an arbitrary(first) element from the set s. Raises KeyError if the set is empty\n",
    "name = {'John','Howerton','Spencer','Linus','Ludwin'}\n",
    "print('Original Set:' + str(name))\n",
    "\n",
    "# Popping element from set s\n",
    "print('Arbitrary Element:'+ str(name.pop()))\n",
    "\n",
    "# Display the augmented set s with the element removed\n",
    "print('Augmented Set:' + str(name))"
   ]
  },
  {
   "cell_type": "code",
   "execution_count": 92,
   "metadata": {},
   "outputs": [
    {
     "name": "stdout",
     "output_type": "stream",
     "text": [
      "Augmented Set:set()\n"
     ]
    }
   ],
   "source": [
    "# Using the clear() method: Removes all elements from the set\n",
    "name = {'John','Howerton','Spencer','Linus','Ludwin'}\n",
    "\n",
    "# Deletes all elements from a set\n",
    "name.clear()\n",
    "\n",
    "# Display the empty set with all elements removed\n",
    "print('Augmented Set:' + str(name))\n",
    "name = {'John','Howerton','Spencer','Linus','Ludwin'}\n"
   ]
  }
 ],
 "metadata": {
  "kernelspec": {
   "display_name": "Python 3",
   "language": "python",
   "name": "python3"
  },
  "language_info": {
   "codemirror_mode": {
    "name": "ipython",
    "version": 3
   },
   "file_extension": ".py",
   "mimetype": "text/x-python",
   "name": "python",
   "nbconvert_exporter": "python",
   "pygments_lexer": "ipython3",
   "version": "3.10.7"
  },
  "orig_nbformat": 4,
  "vscode": {
   "interpreter": {
    "hash": "df95319d8ce4e1d89f5365ae10992bc1f65da593082b1d264e8f529830ec2f02"
   }
  }
 },
 "nbformat": 4,
 "nbformat_minor": 2
}
