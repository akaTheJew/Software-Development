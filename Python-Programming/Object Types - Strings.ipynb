{
 "cells": [
  {
   "cell_type": "code",
   "execution_count": 13,
   "metadata": {},
   "outputs": [],
   "source": [
    "# Defining a string variable \n",
    "st = 'haPPy'\n",
    "phrase = 'Today was a good day'"
   ]
  },
  {
   "cell_type": "code",
   "execution_count": 231,
   "metadata": {},
   "outputs": [
    {
     "name": "stdout",
     "output_type": "stream",
     "text": [
      "Original String:Today was a good day\n",
      "Augmented String:a good day\n",
      "Augmented String:Today was \n",
      "Augmented String:Taw gda\n",
      "Reversed String:yad doog a saw yadoT\n"
     ]
    }
   ],
   "source": [
    "# Using the [start:end:step] method: Returns the sub-string within the slice range [start:end]\n",
    "# Start argument - Starting index of the characters to be displayed in the string (Includes spaces)\n",
    "# End argument - Stoping index of the characters to be displayed in the string (Includes spaces)\n",
    "# Step argument - Interval of strings to be sampled with the starting index as the zero index \n",
    "print('Original String:' + phrase[::])    \n",
    "# Diplaying characters after the 10th index position onwards      \n",
    "print('Augmented String:' + phrase[10::]) \n",
    "# Displaying only the first word in the string \n",
    "print('Augmented String:' + phrase[:10:])\n",
    "# Displaing every third character in the string from start character  \n",
    "print('Augmented String:' + phrase[::3]) \n",
    "# Reverse the order of characters in the string\n",
    "print('Reversed String:' + phrase[::-1]) "
   ]
  },
  {
   "cell_type": "code",
   "execution_count": 16,
   "metadata": {},
   "outputs": [
    {
     "name": "stdout",
     "output_type": "stream",
     "text": [
      "Original String:haPPy\n",
      "Augmented string:Happy\n"
     ]
    }
   ],
   "source": [
    "# Using String Methods\n",
    "# Using the capitalize() method: Returns copy of string with first character capitalized and the rest lowercased\n",
    "st = 'haPPy'\n",
    "print('Original String:' + st)\n",
    "\n",
    "# Capitalized string \n",
    "st = st.capitalize() # Requires assignement to variable to be applicable\n",
    "\n",
    "# Display the augmented string\n",
    "print('Augmented String:' + st)"
   ]
  },
  {
   "cell_type": "code",
   "execution_count": 19,
   "metadata": {},
   "outputs": [
    {
     "name": "stdout",
     "output_type": "stream",
     "text": [
      "Original String:haPPy\n",
      "Aumented string:happy\n"
     ]
    }
   ],
   "source": [
    "# Using the casefold() method: Aggressivly converts all letters in a string to lower case\n",
    "st = 'haPPy'\n",
    "print ('Original String:' + st)\n",
    "\n",
    "# Casefold all characters in string to lowercase\n",
    "st = st.casefold() # Requires assignement to variable to be applicable\n",
    "\n",
    "# Display the augmented string\n",
    "print('Augmented String:' + st)"
   ]
  },
  {
   "cell_type": "code",
   "execution_count": 42,
   "metadata": {},
   "outputs": [
    {
     "name": "stdout",
     "output_type": "stream",
     "text": [
      "Original String:haPPy\n",
      "Aumented string:#####haPPy#####\n"
     ]
    }
   ],
   "source": [
    "# Using the center(width[, fillchar]) method: Returns centered string with padding of fillchar of length > len(string)\n",
    "# width argument - dictates the length of the padded string\n",
    "# fillchar argument - dictates the character to be used as a filler\n",
    "\n",
    "st = 'haPPy'\n",
    "print ('Original String:' + st)\n",
    "\n",
    "# Center original string in the padded string\n",
    "st = st.center(15,'#') # Requires assignement to variable to be applicable\n",
    "\n",
    "\n",
    "# Display the augmented string\n",
    "print('Augmented String:' + st)"
   ]
  },
  {
   "cell_type": "markdown",
   "metadata": {},
   "source": []
  },
  {
   "cell_type": "code",
   "execution_count": 75,
   "metadata": {},
   "outputs": [
    {
     "name": "stdout",
     "output_type": "stream",
     "text": [
      "Original String:Today was a good day\n",
      "Sub string:ay  range: [:]  Count:2\n",
      "Sub string:ay  Range: [:5]  Count:1\n",
      "Sub string:ay  Range: [16:]  Count:1\n"
     ]
    }
   ],
   "source": [
    "# Using the count(sub, start, end) method: Returns number of non-overlapping occurences of a substring in a string\n",
    "# sub argument - substring within the main string\n",
    "# start argument - start indices for count in string \n",
    "# end argument - end indices for count in string \n",
    "st = 'haPPy'\n",
    "phrase = 'Today was a good day'\n",
    "print ('Original String:' + phrase)\n",
    " \n",
    "# Display the sub string count\n",
    "print('Sub string:ay  range: [:] '  + ' Count:' + str(phrase.count('ay')))\n",
    "print('Sub string:ay  Range: [:5] '  + ' Count:' + str(phrase.count('ay',0,5)))\n",
    "print('Sub string:ay  Range: [16:] '  + ' Count:' + str(phrase.count('ay',16,)))"
   ]
  },
  {
   "cell_type": "code",
   "execution_count": 43,
   "metadata": {},
   "outputs": [
    {
     "name": "stdout",
     "output_type": "stream",
     "text": [
      "Original String:haPPy\n",
      "Augmented string:b'haPPy'\n",
      "string type:<class 'bytes'>\n"
     ]
    }
   ],
   "source": [
    "# Using the encode( encoding = utf-8(default), errors = strict) method: Returns string encoded to bytes \n",
    "st = 'haPPy'\n",
    "print('Original String:' + st)\n",
    "\n",
    "# Encode the string to bytes\n",
    "st = st.encode(encoding = 'utf-8', errors= 'strict') # Requires assignement to variable to be applicable \n",
    "\n",
    "# Display the augmented string\n",
    "print('Augmented String:' + str(st))\n",
    "print('String Type:' + str(type(st)))"
   ]
  },
  {
   "cell_type": "code",
   "execution_count": 47,
   "metadata": {},
   "outputs": [
    {
     "name": "stdout",
     "output_type": "stream",
     "text": [
      "Original String:Today was a good day\n",
      "suffix:ay  Present:True\n",
      "suffix:jk  Present:False\n"
     ]
    }
   ],
   "source": [
    "# Using the endswith(suffix,start,end) method: Returns true if the string ends with the specified suffix else returns false \n",
    "# suffix argument - can be a string or tuple of strings to compare\n",
    "# start argument - start index of string for comparison\n",
    "# end argument -  end index of string for comparison\n",
    "st = 'haPPy'\n",
    "phrase = 'Today was a good day'\n",
    "print('Original String:' + phrase)\n",
    "\n",
    "# Display if the suffix is present in string \n",
    "print('suffix:ay ' + ' Present:' + str(phrase.endswith('ay')))\n",
    "print('suffix:jk ' + ' Present:' + str(phrase.endswith('jk')))"
   ]
  },
  {
   "cell_type": "code",
   "execution_count": 70,
   "metadata": {},
   "outputs": [
    {
     "name": "stdout",
     "output_type": "stream",
     "text": [
      "Original String:Today\twas\tgood\tday\n",
      "Augmented String:Today was good  day\n"
     ]
    }
   ],
   "source": [
    "# Using the expandtabs(tabsize=8(default)) method: Returns a string where all tab characters (\\) are replaced by n spaces\n",
    "st = 'haPPy'\n",
    "phrase = 'Today\\twas\\tgood\\tday'\n",
    "print('Original String:' + phrase)\n",
    "\n",
    "# Replacing the tab character with spaces\n",
    "phrase = phrase.expandtabs(tabsize = 2) # Replaces tab with 2 spaces instead of the standard 8 \n",
    "\n",
    "# Display the augmented string\n",
    "print('Augmented String:' + phrase)"
   ]
  },
  {
   "cell_type": "code",
   "execution_count": 81,
   "metadata": {},
   "outputs": [
    {
     "name": "stdout",
     "output_type": "stream",
     "text": [
      "Original String:Today was a good day\n",
      "Sub-string:od  Range: [:]  Start index position:1\n",
      "Sub-string:od  Range: [11:]  Start index position:14\n",
      "Sub-string:py  Range: [:]  Start index position:-1\n"
     ]
    }
   ],
   "source": [
    "# Using the find(sub, start, end) method: Returns the index in the string with the lowest value of the sub-string being searched. Returns -1 if sub-string not found in string or range slice\n",
    "# sub argument - Sub-string to be searched in main string \n",
    "# start argument - Start index position in string for search\n",
    "# end argument -  End index position in string for search\n",
    "\n",
    "st = 'haPPy'\n",
    "phrase = 'Today was a good day'\n",
    "print('Original String:' + phrase)\n",
    "\n",
    "# Display the index of substring searched\n",
    "print('Sub-string:od ' + ' Range: [:] ' +' Start index position:'+str(phrase.find('od')))\n",
    "print('Sub-string:od ' + ' Range: [11:] ' +' Start index position:'+str(phrase.find('od',11,)))\n",
    "print('Sub-string:py ' + ' Range: [:] ' +' Start index position:'+str(phrase.find('py')))"
   ]
  },
  {
   "cell_type": "code",
   "execution_count": 83,
   "metadata": {},
   "outputs": [
    {
     "name": "stdout",
     "output_type": "stream",
     "text": [
      "Original String:Today was a good day\n",
      "Sub-string:od  Range: [:]  Start index position:1\n",
      "Sub-string:od  Range: [11:]  Start index position:14\n"
     ]
    }
   ],
   "source": [
    "# Using the index(sub, start, end) method: Returns the index in the string with the lowest value of the sub-string being searched. Returns ValueError if sub-string not found in string or range slice\n",
    "# sub argument - Sub-string to be searched in main string \n",
    "# start argument - Start index position in string for search\n",
    "# end argument -  End index position in string for search\n",
    "\n",
    "st = 'haPPy'\n",
    "phrase = 'Today was a good day'\n",
    "print('Original String:' + phrase)\n",
    "\n",
    "# Display the index of substring searched\n",
    "print('Sub-string:od ' + ' Range: [:] ' +' Start index position:' + str(phrase.index('od')))\n",
    "print('Sub-string:od ' + ' Range: [11:] ' +' Start index position:' + str(phrase.index('od',11,)))\n",
    "#print('Sub-string:py ' + ' Range: [:] ' +' Start index position:' + str(phrase.index('py')))"
   ]
  },
  {
   "cell_type": "code",
   "execution_count": 90,
   "metadata": {},
   "outputs": [
    {
     "name": "stdout",
     "output_type": "stream",
     "text": [
      "Original String:Today was a good day\n",
      "String is Alphanumeric:False\n",
      "String is Alphanumeric:True\n"
     ]
    }
   ],
   "source": [
    "# Using the isalnum() method: Returns True if all characters in the string are alphanumeric. For chatacter 'c' is aphanumeric if at least one (c.isalpha(), c.isdecimal(), c.isdigit(), c.isnumeric()) returns true \n",
    "\n",
    "st = 'haPPy'\n",
    "phrase = 'Today was a good day'\n",
    "print('Original String:' + phrase)\n",
    "\n",
    "# Display if all characters in a string a aplanumeric\n",
    "print('String is Alphanumeric:' + str(phrase.isalnum())) # Returns False due to presence of spaces \n",
    "print('String is Alphanumeric:' + str(phrase.replace(' ','').isalnum())) # Returns True due to absense of spaces"
   ]
  },
  {
   "cell_type": "code",
   "execution_count": 93,
   "metadata": {},
   "outputs": [
    {
     "name": "stdout",
     "output_type": "stream",
     "text": [
      "Original String:haPPy\n",
      "String is Aplphabetic:False\n",
      "String is Aplphabetic:True\n"
     ]
    }
   ],
   "source": [
    "# Using the isalpha() method: Returns True if all characters in the string are alphanumeric else returns False  \n",
    "\n",
    "st = 'haPPy'\n",
    "phrase = 'Today was a good day'\n",
    "print('Original String:' + st)\n",
    "\n",
    "# Display the augmented string\n",
    "print('String is Aplphabetic:' + str(phrase.isalpha())) # Returns False due to presence of spaces\n",
    "print('String is Aplphabetic:' + str(phrase.replace(' ','').isalpha())) # # Returns True due to absesence of spaces"
   ]
  },
  {
   "cell_type": "code",
   "execution_count": 95,
   "metadata": {},
   "outputs": [
    {
     "name": "stdout",
     "output_type": "stream",
     "text": [
      "Original String:haPPy\n",
      "String is ASCII:True\n"
     ]
    }
   ],
   "source": [
    "# Using the isascii() method: Returns True if string is empty or all chatacters are ASCII else returns False  \n",
    "\n",
    "st = 'haPPy'\n",
    "phrase = 'Today was a good day'\n",
    "print('Original String:' + st)\n",
    "\n",
    "# Display the augmented string\n",
    "print('String is ASCII:' + str(phrase.isascii())) # Space also considered an ASCII character"
   ]
  },
  {
   "cell_type": "code",
   "execution_count": null,
   "metadata": {},
   "outputs": [],
   "source": [
    "# Using the is \n",
    "\n",
    "st = 'haPPy'\n",
    "print('Original String:' + st)\n",
    "\n",
    "# \n",
    "st.\n",
    "\n",
    "# Display the augmented string\n",
    "print('Augmented string:' + st)"
   ]
  },
  {
   "cell_type": "code",
   "execution_count": 104,
   "metadata": {},
   "outputs": [
    {
     "name": "stdout",
     "output_type": "stream",
     "text": [
      "Original String:haPPy\n",
      "String is Decimal:False\n",
      "String is Decimal:False\n"
     ]
    }
   ],
   "source": [
    "# Using the isdecimal() method: Returns True if all characters in the string are decimal characters and string has a min of 1 character else returns false\n",
    "# Decimal Character - Character in the Unicode General Category \n",
    "st = 'haPPy'\n",
    "phrase = 'Today was a good day'\n",
    "check = '45.54'\n",
    "print('Original String:' + st)\n",
    "\n",
    "# Display the augmented string\n",
    "print('String is Decimal:' + str(phrase.isdecimal()))\n",
    "print('String is Decimal:' + str(check.isdecimal()))"
   ]
  },
  {
   "cell_type": "code",
   "execution_count": 226,
   "metadata": {},
   "outputs": [
    {
     "name": "stdout",
     "output_type": "stream",
     "text": [
      "Original String:Today was a good day\n",
      "String is digit:False\n",
      "String is digit:False\n",
      "String is digit:True\n"
     ]
    }
   ],
   "source": [
    "# Using the isdigit() method: Returns True if all characters in the string are digits and there is at least on character else returns False\n",
    "\n",
    "ages = '23 25 29 22 27'\n",
    "phrase = 'Today was a good day'\n",
    "print('Original String:' + phrase)\n",
    "\n",
    "# Display if the string is a digit string\n",
    "print('String is digit:' + str(st.isdigit()))\n",
    "print('String is digit:' + str(ages.isdigit()))\n",
    "print('String is digit:' + str(ages.replace(' ','').isdigit()))\n"
   ]
  },
  {
   "cell_type": "code",
   "execution_count": 108,
   "metadata": {},
   "outputs": [
    {
     "name": "stdout",
     "output_type": "stream",
     "text": [
      "Original String:haPPy\n",
      "String is Lowecase:False\n",
      "String is Lowecase:True\n"
     ]
    }
   ],
   "source": [
    "# Using the isidentifier(): Retirns True if Srting is a valid identifer \n",
    "\n",
    "st = 'haPPy'\n",
    "print('Original String:' + st)\n",
    "\n"
   ]
  },
  {
   "cell_type": "code",
   "execution_count": null,
   "metadata": {},
   "outputs": [],
   "source": [
    "# Using the islower() method: Returns True if all characters in the string are lowercase else returns false. \n",
    "\n",
    "st = 'haPPy'\n",
    "print('Original String:' + st)\n",
    "\n",
    "# Display the augmented string\n",
    "print('String is Lowecase:' + str(st.islower())) # Not all characters are lowercase\n",
    "print('String is Lowecase:' + str(st.casefold().islower())) # All characters are converted to lower case and check is performed"
   ]
  },
  {
   "cell_type": "code",
   "execution_count": 228,
   "metadata": {},
   "outputs": [
    {
     "name": "stdout",
     "output_type": "stream",
     "text": [
      "Original String:haPPy\n",
      "String is Numeric:False\n",
      "String is Numeric:True\n"
     ]
    }
   ],
   "source": [
    "# Using the isnumeri() method: Returns True if all characters in the string are numeric else returns False\n",
    "\n",
    "st = 'haPPy'\n",
    "check = '2148856'\n",
    "print('Original String:' + st)\n",
    "\n",
    "# Display the augmented string\n",
    "print('String is Numeric:' + str(st.isnumeric()))\n",
    "print('String is Numeric:' + str(check.isnumeric()))"
   ]
  },
  {
   "cell_type": "code",
   "execution_count": null,
   "metadata": {},
   "outputs": [],
   "source": [
    "# Using the isprintable() method: Returns True if all characters in the string are printable or the string is empty else returns False\n",
    "\n",
    "st = 'haPPy'\n",
    "print('Original String:' + st)\n",
    "\n",
    "# \n",
    "st.\n",
    "\n",
    "# Display the augmented string\n",
    "print('Augmented string:' + st)"
   ]
  },
  {
   "cell_type": "code",
   "execution_count": 113,
   "metadata": {},
   "outputs": [
    {
     "name": "stdout",
     "output_type": "stream",
     "text": [
      "Original String:haPPy\n",
      "String is space:False\n",
      "String is space:True\n"
     ]
    }
   ],
   "source": [
    "# Using the isspace() method: Returns True if there is only white space characters in the string else returns False \n",
    "\n",
    "st = 'haPPy'\n",
    "check = '   '\n",
    "print('Original String:' + st)\n",
    "\n",
    "# Display the augmented string\n",
    "print('String is space:' + str(st.isspace()))\n",
    "print('String is space:' + str(check.isspace()))"
   ]
  },
  {
   "cell_type": "code",
   "execution_count": 114,
   "metadata": {},
   "outputs": [
    {
     "name": "stdout",
     "output_type": "stream",
     "text": [
      "Original String:haPPy\n",
      "String is Titlecased:False\n",
      "String is Titlecased:False\n"
     ]
    }
   ],
   "source": [
    "# Using the istitle() method: Returns true if the string is a titlecased string else returns false \n",
    "\n",
    "st = 'haPPy'\n",
    "check = 'HAPPY'\n",
    "print('Original String:' + st)\n",
    "\n",
    "# Display the augmented string\n",
    "print('String is Titlecased:' + str(st.istitle()))\n",
    "print('String is Titlecased:' + str(check.istitle()))"
   ]
  },
  {
   "cell_type": "code",
   "execution_count": 115,
   "metadata": {},
   "outputs": [
    {
     "name": "stdout",
     "output_type": "stream",
     "text": [
      "Original String:haPPy\n",
      "String is Uppercase:False\n",
      "String is Uppercase:True\n"
     ]
    }
   ],
   "source": [
    "# Using the isupper() method: Returns True if all characters in the string are uppercase else returns False \n",
    "\n",
    "st = 'haPPy'\n",
    "check = 'HAPPY'\n",
    "print('Original String:' + st)\n",
    "\n",
    "# Display the augmented string\n",
    "print('String is Uppercase:' + str(st.isupper()))\n",
    "print('String is Uppercase:' + str(check.isupper()))"
   ]
  },
  {
   "cell_type": "code",
   "execution_count": 127,
   "metadata": {},
   "outputs": [
    {
     "name": "stdout",
     "output_type": "stream",
     "text": [
      "Original String:haPPy\n",
      "Original String:Today was a good day\n",
      "Concatenated string :hToday was a good dayaToday was a good dayPToday was a good dayPToday was a good dayy\n"
     ]
    }
   ],
   "source": [
    "# Using the join(iterable) method: Returns string that is concatenated with characters in iterable. Raises Type Error if non-string values are part of iterable\n",
    "\n",
    "st = 'haPPy'\n",
    "phrase = 'Today was a good day'\n",
    "print('Original String:' + st)\n",
    "print('Original String:' + phrase)\n",
    "\n",
    "# Display the augmented string\n",
    "print('Concatenated string :' + phrase.join(st))"
   ]
  },
  {
   "cell_type": "code",
   "execution_count": 128,
   "metadata": {},
   "outputs": [
    {
     "name": "stdout",
     "output_type": "stream",
     "text": [
      "Original String:haPPy\n",
      "Augmented string:haPPy#####\n"
     ]
    }
   ],
   "source": [
    "# Using the ljust(width,fillchar) method: Returns string left justufied of lenth width and padding of fillchar\n",
    "# width argument - Determines the length of the final string\n",
    "# fillchar argument -  Determines the character to use as a filler character\n",
    "\n",
    "st = 'haPPy'\n",
    "print('Original String:' + st)\n",
    "\n",
    "# Display the augmented string\n",
    "print('Augmented string:' + st.ljust(10,'#'))"
   ]
  },
  {
   "cell_type": "code",
   "execution_count": 129,
   "metadata": {},
   "outputs": [
    {
     "name": "stdout",
     "output_type": "stream",
     "text": [
      "Original String:haPPy\n",
      "Augmented string:happy\n"
     ]
    }
   ],
   "source": [
    "# Using the lower() method: Returns copy of the string with all the cased characters converted to lowercase\n",
    "\n",
    "st = 'haPPy'\n",
    "print('Original String:' + st)\n",
    "\n",
    "# Display the augmented string\n",
    "print('Augmented string:' + st.lower())"
   ]
  },
  {
   "cell_type": "code",
   "execution_count": 141,
   "metadata": {},
   "outputs": [
    {
     "name": "stdout",
     "output_type": "stream",
     "text": [
      "Original String:haPPy\n",
      "Augmented string:PPy\n"
     ]
    }
   ],
   "source": [
    "# Using the lstrip(chars) method: Returns copy of string with leading characters removed if char is not specified whitespace is removed\n",
    "# chars argument - Specifies all combination of characters to be removed from the string\n",
    "\n",
    "st = 'haPPy'\n",
    "print('Original String:' + st)\n",
    "\n",
    "st = st.lstrip('ah')\n",
    "\n",
    "# Display the augmented string\n",
    "print('Augmented string:' + st)"
   ]
  },
  {
   "cell_type": "code",
   "execution_count": null,
   "metadata": {},
   "outputs": [],
   "source": [
    "# Using the maketrans(x,y,z) method: \n",
    "\n",
    "st = 'haPPy'\n",
    "print('Original String:' + st)\n",
    "\n",
    "# \n",
    "st.\n",
    "\n",
    "# Display the augmented string\n",
    "print('Augmented string:' + st)"
   ]
  },
  {
   "cell_type": "code",
   "execution_count": 146,
   "metadata": {},
   "outputs": [
    {
     "name": "stdout",
     "output_type": "stream",
     "text": [
      "Original String:haPPy\n",
      "Augmented string:('ha', 'P', 'Py')\n"
     ]
    }
   ],
   "source": [
    "# Using the partition(sep) method: Splits the string at the first occurence of sep and returns three tupples the string before and after the sep and the sep itself\n",
    "\n",
    "st = 'haPPy'\n",
    "print('Original String:' + st)\n",
    "\n",
    "# Display the augmented string\n",
    "print('Augmented string:' + str(st.partition('P')))"
   ]
  },
  {
   "cell_type": "code",
   "execution_count": 156,
   "metadata": {},
   "outputs": [
    {
     "name": "stdout",
     "output_type": "stream",
     "text": [
      "Original String:haPPy\n",
      "Augmented string:haP\n",
      "Augmented string:haPPy\n"
     ]
    }
   ],
   "source": [
    "# Using the removeprefix(sub, /) method: Removes the sub-string from the string if it is the prefix else returns the original string \n",
    "\n",
    "st = 'haPPy'\n",
    "print('Original String:' + st)\n",
    "\n",
    "# Display the augmented string\n",
    "print('Augmented string:' + st.removesuffix('Py'))\n",
    "print('Augmented string:' + st.removesuffix('PP'))\n"
   ]
  },
  {
   "cell_type": "code",
   "execution_count": null,
   "metadata": {},
   "outputs": [],
   "source": [
    "# Using the removesuffix(sub, /) method: Removes the sub-string from the string if it is the suffix else returns the original string \n",
    "\n",
    "st = 'haPPy'\n",
    "print('Original String:' + st)\n",
    "\n",
    "# Display the augmented string\n",
    "print('Augmented string:' + st.removeprefix('ha'))\n",
    "print('Augmented string:' + st.removeprefix('aP'))\n"
   ]
  },
  {
   "cell_type": "code",
   "execution_count": 155,
   "metadata": {},
   "outputs": [
    {
     "name": "stdout",
     "output_type": "stream",
     "text": [
      "Original String:haPPy\n",
      "Original String:Today was a good day\n",
      "Augmented string:haPPiest\n",
      "Augmented string:Todeyy was a good day\n"
     ]
    }
   ],
   "source": [
    "# Using the replace(old,new,count) method: Retrurns string with all occurences of old replaced by new in the string\n",
    "# old argument - Sub string to be replaced\n",
    "# new arument - Sub string to be entered\n",
    "# count argument - Count of instance to be replaced\n",
    "\n",
    "st = 'haPPy'\n",
    "phrase = 'Today was a good day'\n",
    "print('Original String:' + st)\n",
    "print('Original String:' + phrase)\n",
    "\n",
    "# Display the augmented string\n",
    "print('Augmented string:' + st.replace('y','iest'))\n",
    "print('Augmented string:' + phrase.replace('ay','eyy',1))\n"
   ]
  },
  {
   "cell_type": "code",
   "execution_count": 159,
   "metadata": {},
   "outputs": [
    {
     "name": "stdout",
     "output_type": "stream",
     "text": [
      "Original String:Today was a good day\n",
      "Sub-string:ay  Index position:18\n",
      "Sub-string:ay  Index position:3\n"
     ]
    }
   ],
   "source": [
    "# Using the rfind(sub,start,end) method: Returns the highest index in the string where sub is found within the search slice [start:end] else returns -1 if no substrings found\n",
    "\n",
    "phrase = 'Today was a good day'\n",
    "print('Original String:' + phrase)\n",
    "\n",
    "# Display the augmented string\n",
    "print('Sub-string:ay ' +' Index position:'+ str(phrase.rfind('ay')))\n",
    "print('Sub-string:ay ' +' Index position:'+ str(phrase.rfind('ay',0,10)))"
   ]
  },
  {
   "cell_type": "code",
   "execution_count": 160,
   "metadata": {},
   "outputs": [
    {
     "name": "stdout",
     "output_type": "stream",
     "text": [
      "Original String:Today was a good day\n",
      "Sub-string:ay  Index position:18\n",
      "Sub-string:ay  Index position:3\n"
     ]
    }
   ],
   "source": [
    "# Using the rindex(sub,start,end) method: Returns the highest index in the string where sub is found within the search slice [start:end] else returns ValueError if no substrings found\n",
    "\n",
    "phrase = 'Today was a good day'\n",
    "print('Original String:' + phrase)\n",
    "\n",
    "# Display the augmented string\n",
    "print('Sub-string:ay ' +' Index position:'+ str(phrase.rindex('ay')))\n",
    "print('Sub-string:ay ' +' Index position:'+ str(phrase.rindex('ay',0,10)))"
   ]
  },
  {
   "cell_type": "code",
   "execution_count": 161,
   "metadata": {},
   "outputs": [
    {
     "name": "stdout",
     "output_type": "stream",
     "text": [
      "Original String:haPPy\n",
      "Augmented string:#####haPPy\n"
     ]
    }
   ],
   "source": [
    "# Using the rjust(width,fillchar) method: Returns string right justufied of lenth width and padding of fillchar\n",
    "# width argument - Determines the length of the final string\n",
    "# fillchar argument -  Determines the character to use as a filler character\n",
    "st = 'haPPy'\n",
    "print('Original String:' + st)\n",
    "\n",
    "# Display the augmented string\n",
    "print('Augmented string:' + st.rjust(10,'#'))"
   ]
  },
  {
   "cell_type": "code",
   "execution_count": 163,
   "metadata": {},
   "outputs": [
    {
     "name": "stdout",
     "output_type": "stream",
     "text": [
      "Original String:haPPy\n",
      "Augmented string:('haP', 'P', 'y')\n"
     ]
    }
   ],
   "source": [
    "# Using the rpartition(sub) method: Splits the string at the last occurnece of sub and returns three tuples string before, string after and the seperator \n",
    "\n",
    "st = 'haPPy'\n",
    "print('Original String:' + st)\n",
    "\n",
    "# Display the augmented string\n",
    "print('Augmented string:' + str(st.rpartition('P')))"
   ]
  },
  {
   "cell_type": "code",
   "execution_count": 186,
   "metadata": {},
   "outputs": [
    {
     "name": "stdout",
     "output_type": "stream",
     "text": [
      "Original String:haPPy\n",
      "Augmented string:['haP', 'y']\n",
      "Augmented string:['ha', '', 'y']\n"
     ]
    }
   ],
   "source": [
    "# Using the rsplit(sep = None , maxsplit = -1) method: Returns list of words in the string using the sep as the delimiter string. If sep is not defined None(default) any whitespace string is seperator\n",
    "\n",
    "st = 'haPPy'\n",
    "print('Original String:' + st)\n",
    "\n",
    "# Display the augmented string\n",
    "print('Augmented string:' + str(st.rsplit('P', maxsplit= 1)))\n",
    "print('Augmented string:' + str(st.rsplit('P', maxsplit= 2)))"
   ]
  },
  {
   "cell_type": "code",
   "execution_count": 185,
   "metadata": {},
   "outputs": [
    {
     "name": "stdout",
     "output_type": "stream",
     "text": [
      "Original String:Today was a good day\n",
      "Augmented string:Today was a good day\n",
      "Augmented string:Today was a g\n"
     ]
    }
   ],
   "source": [
    "# Using the rstrip(chars) method: Returns copy of string with trailing characters removed if char is not specified whitespace is removed\n",
    "# chars argument - Specifies all combination of characters to be removed from the string\n",
    "\n",
    "\n",
    "phrase = 'Today was a good day'\n",
    "print('Original String:' + phrase)\n",
    "\n",
    "# Display the augmented string\n",
    "print('Augmented string:' + phrase.rstrip())\n",
    "print('Augmented string:' + phrase.rstrip('oayd '))"
   ]
  },
  {
   "cell_type": "code",
   "execution_count": 192,
   "metadata": {},
   "outputs": [
    {
     "name": "stdout",
     "output_type": "stream",
     "text": [
      "Original String:Today was a good day\n",
      "Augmented string:['Today', 'was a good day']\n",
      "Augmented string:['Today', 'was', 'a', 'good day']\n",
      "Augmented string:['Today', 'was', 'a', 'good', 'day']\n"
     ]
    }
   ],
   "source": [
    "# Using the split(sep = None, maxsplit = -1) method: Returns list of words in the string with sep as the delimiter string. If maxsplit is given number of splits specified are made else max number of splits possible are performed\n",
    "\n",
    "phrase = 'Today was a good day'\n",
    "print('Original String:' + phrase)\n",
    "\n",
    "# Display the augmented string\n",
    "print('Augmented string:' + str(phrase.split(sep= ' ', maxsplit= 1)))\n",
    "print('Augmented string:' + str(phrase.split(sep= ' ', maxsplit= 3)))\n",
    "print('Augmented string:' + str(phrase.split(sep= ' ', maxsplit= -1)))"
   ]
  },
  {
   "cell_type": "code",
   "execution_count": 197,
   "metadata": {},
   "outputs": [
    {
     "name": "stdout",
     "output_type": "stream",
     "text": [
      "Original String:Today was a good day\n",
      "Original String:ab c\n",
      "\n",
      "kl fg\n",
      "\n",
      "Augmented string:['Today was a good day']\n",
      "Augmented string:['ab c', '', 'de fg', 'kl']\n",
      "Augmented string:['ab c\\n', '\\n', 'de fg\\r', 'kl\\r\\n']\n"
     ]
    }
   ],
   "source": [
    "# Using the splitlines(keepends = False) method: Returns a list of lines in the string breaking at line boundaries. Line breaks are included if keepends = True\n",
    "\n",
    "'''\n",
    "REPRESENTATION              DESCRIPTION\n",
    "\n",
    "\\n                          Line Feed\n",
    "\n",
    "\\r                          Carriage Return\n",
    "\n",
    "\\r\\n                        Carriage Return + Line Feed\n",
    "\n",
    "\\v or \\x0b                  Line Tabulation\n",
    "\n",
    "\\f or \\x0c                  Form Feed\n",
    "\n",
    "\\x1c                        File Separator\n",
    "\n",
    "\\x1d                        Group Separator\n",
    "\n",
    "\\x1e                        Record Separator\n",
    "\n",
    "\\x85                        Next Line (C1 Control Code)\n",
    "\n",
    "\\u2028                      Line Separator\n",
    "\n",
    "\\u2029                      Paragraph Separator\n",
    "'''\n",
    "\n",
    "phrase = 'Today was a good day'\n",
    "check = 'ab c\\n\\nde fg\\rkl\\r\\n'\n",
    "print('Original String:' + phrase)\n",
    "print('Original String:' + check )\n",
    "\n",
    "# Display the augmented string\n",
    "print('Augmented string:' + str(phrase.splitlines()))\n",
    "print('Augmented string:' + str(check.splitlines()))\n",
    "print('Augmented string:' + str(check.splitlines(keepends = True)))"
   ]
  },
  {
   "cell_type": "markdown",
   "metadata": {},
   "source": []
  },
  {
   "cell_type": "code",
   "execution_count": 201,
   "metadata": {},
   "outputs": [
    {
     "name": "stdout",
     "output_type": "stream",
     "text": [
      "Original String:Today was a good day\n",
      "suffix:ay  Present:True\n",
      "suffix:jk  Present:False\n"
     ]
    }
   ],
   "source": [
    "# Using the startswith(suffix,start,end) method: Returns true if the string starts with the specified preffix else returns false \n",
    "# preffix argument - can be a string or tuple of strings to compare\n",
    "# start argument - start index of string for comparison\n",
    "# end argument -  end index of string for comparison\n",
    "phrase = 'Today was a good day'\n",
    "print('Original String:' + phrase)\n",
    "\n",
    "# Display if the suffix is present in string \n",
    "print('suffix:ay ' + ' Present:' + str(phrase.startswith('To')))\n",
    "print('suffix:jk ' + ' Present:' + str(phrase.startswith('jk')))"
   ]
  },
  {
   "cell_type": "code",
   "execution_count": 206,
   "metadata": {},
   "outputs": [
    {
     "name": "stdout",
     "output_type": "stream",
     "text": [
      "Original String:Today was a good day\n",
      "Augmented string:Today was a good day\n",
      "Augmented string:was a g\n"
     ]
    }
   ],
   "source": [
    "# Using the strip(chars) method: Returns copy of string with leading and trailing characters removed if char is not specified whitespace is removed\n",
    "# chars argument - Specifies all combination of characters to be removed from the string\n",
    "\n",
    "phrase = 'Today was a good day'\n",
    "print('Original String:' + phrase)\n",
    "\n",
    "# Display the augmented string\n",
    "print('Augmented string:' + phrase.strip())\n",
    "print('Augmented string:' + phrase.strip('oaydT '))"
   ]
  },
  {
   "cell_type": "code",
   "execution_count": 207,
   "metadata": {},
   "outputs": [
    {
     "name": "stdout",
     "output_type": "stream",
     "text": [
      "Original String:haPPy\n",
      "Augmented string:HAppY\n"
     ]
    }
   ],
   "source": [
    "# Using the swapcase() method: Returns a copy of the string with uppercase characters converted to lowercase and vice versa\n",
    "\n",
    "st = 'haPPy'\n",
    "print('Original String:' + st)\n",
    "\n",
    "# Display the augmented string\n",
    "print('Augmented string:' + st.swapcase())"
   ]
  },
  {
   "cell_type": "code",
   "execution_count": 208,
   "metadata": {},
   "outputs": [
    {
     "name": "stdout",
     "output_type": "stream",
     "text": [
      "Original String:haPPy\n",
      "Original String:Today was a good day\n",
      "\n",
      "Augmented string:Happy\n",
      "Augmented string:Today Was A Good Day\n"
     ]
    }
   ],
   "source": [
    "# Using the title() method: Retruns titlecased version of the string where words start with an uppercase character and remaining characters are lowercase\n",
    "\n",
    "st = 'haPPy'\n",
    "phrase = 'Today was a good day'\n",
    "print('Original String:' + st)\n",
    "print('Original String:' + phrase + '\\n')\n",
    "\n",
    "# Display the augmented string\n",
    "print('Augmented string:' + st.title())\n",
    "print('Augmented string:' + phrase.title())"
   ]
  },
  {
   "cell_type": "code",
   "execution_count": null,
   "metadata": {},
   "outputs": [],
   "source": [
    "# Using the str.translate(table) method:\n",
    "\n",
    "st = 'haPPy'\n",
    "print('Original String:' + st)\n",
    "\n",
    "# \n",
    "st.\n",
    "\n",
    "# Display the augmented string\n",
    "print('Augmented string:' + st)"
   ]
  },
  {
   "cell_type": "code",
   "execution_count": 212,
   "metadata": {},
   "outputs": [
    {
     "name": "stdout",
     "output_type": "stream",
     "text": [
      "Original String:haPPy\n",
      "Augmented string:HAPPY\n"
     ]
    }
   ],
   "source": [
    "# Using the upper() method: Returns a copy of the string with all the cased characters converted to uppercase\n",
    "\n",
    "st = 'haPPy'\n",
    "print('Original String:' + st)\n",
    "\n",
    "# Display the augmented string\n",
    "print('Augmented string:' + st.upper())"
   ]
  },
  {
   "cell_type": "code",
   "execution_count": 218,
   "metadata": {},
   "outputs": [
    {
     "name": "stdout",
     "output_type": "stream",
     "text": [
      "Original String:haPPy\n",
      "Augmented string:haPPy\n",
      "Augmented string:00069\n",
      "Augmented string:-0069\n",
      "Augmented string:+0069\n"
     ]
    }
   ],
   "source": [
    "# Using the zfill(width) method: Returns a copy of the string left padded with ASCII '0' digit(s) to form a string of length width else returns original string if width <= length of string\n",
    "\n",
    "st = 'haPPy'\n",
    "check1 = '69'\n",
    "check2 = '-69'\n",
    "check3 = '+69' \n",
    "print('Original String:' + st)\n",
    "\n",
    "# Display the augmented string\n",
    "print('Augmented string:' + st.zfill(5)) # Does not apply for alphabetical string characters\n",
    "print('Augmented string:' + check1.zfill(5)) # Applies for numerical string characters\n",
    "print('Augmented string:' + check2.zfill(5)) # Padding inserted after '-' prefix\n",
    "print('Augmented string:' + check3.zfill(5)) # Padding inserted after '+' prefix\n"
   ]
  },
  {
   "cell_type": "code",
   "execution_count": 222,
   "metadata": {},
   "outputs": [
    {
     "name": "stdout",
     "output_type": "stream",
     "text": [
      "Python has 002 quote types.\n"
     ]
    }
   ],
   "source": [
    "print('%(language)s has %(number)03d quote types.' %\n",
    "      {'language': \"Python\", \"number\": 2})\n"
   ]
  }
 ],
 "metadata": {
  "kernelspec": {
   "display_name": "Python 3",
   "language": "python",
   "name": "python3"
  },
  "language_info": {
   "codemirror_mode": {
    "name": "ipython",
    "version": 3
   },
   "file_extension": ".py",
   "mimetype": "text/x-python",
   "name": "python",
   "nbconvert_exporter": "python",
   "pygments_lexer": "ipython3",
   "version": "3.10.7"
  },
  "orig_nbformat": 4,
  "vscode": {
   "interpreter": {
    "hash": "df95319d8ce4e1d89f5365ae10992bc1f65da593082b1d264e8f529830ec2f02"
   }
  }
 },
 "nbformat": 4,
 "nbformat_minor": 2
}
