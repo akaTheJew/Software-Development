{
 "cells": [
  {
   "cell_type": "code",
   "execution_count": null,
   "metadata": {},
   "outputs": [],
   "source": [
    "# Code that helps carryout specific actions in a given sequence\n",
    "# Function 1: Writing a function to call a specific value from a tuple in a list of tuples\n",
    "# Defining the list and list of tuples\n",
    "tl = [(23, 2, 65), (13, 65, 766), (4, 23, 65)]\n",
    "ls = [3, 6, -2, -5, 7, 3]\n",
    "\n",
    "\n",
    "# Defining the function \n",
    "def call_tuple(nlist, y, x):\n",
    "    tuple = nlist[y]\n",
    "    value = tuple[x]\n",
    "    return print(value)\n",
    "\n",
    "# Fucntion 2: Writing a function to call all the x-index values of tuples in a list of tuples\n",
    "def call_tuples(nlist, x):\n",
    "    value = [tuple[x] for tuple in nlist]\n",
    "    return print(value)\n",
    "\n",
    "\n",
    "# Calling the functions\n",
    "call_tuple(tl, 2, 1) # Function 1\n",
    "call_tuples(tl, 2)   # Function 2 \n",
    "\n",
    "# Using the Zip function \n",
    "print(ls)       # Displays the values of the list ls\n",
    "print(ls[1:])   # Displays the values of the list ls starting from the integer with the index value 1 \n",
    "print(list(zip(ls,ls[1:])))    # The Zip function pairs two values from different lists/ tuples with the same index # into a list of tuples \n",
    "\n",
    "# Calculating the greatest product of adjacent integers in an array \n",
    "print(max(a*b for a, b in zip(ls, ls[1:]))) # Using list comprehension in combination with the zip function \n"
   ]
  }
 ],
 "metadata": {
  "kernelspec": {
   "display_name": "Python 3",
   "language": "python",
   "name": "python3"
  },
  "language_info": {
   "name": "python",
   "version": "3.10.7"
  },
  "orig_nbformat": 4,
  "vscode": {
   "interpreter": {
    "hash": "df95319d8ce4e1d89f5365ae10992bc1f65da593082b1d264e8f529830ec2f02"
   }
  }
 },
 "nbformat": 4,
 "nbformat_minor": 2
}
